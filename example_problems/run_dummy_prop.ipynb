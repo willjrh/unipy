{
 "cells": [
  {
   "cell_type": "markdown",
   "metadata": {},
   "source": [
    "# Build a Kriging surrogate on some dummy prop data"
   ]
  },
  {
   "cell_type": "code",
   "execution_count": 13,
   "metadata": {},
   "outputs": [
    {
     "name": "stdout",
     "output_type": "stream",
     "text": [
      "The autoreload extension is already loaded. To reload it, use:\n",
      "  %reload_ext autoreload\n"
     ]
    }
   ],
   "source": [
    "import pandas as pd\n",
    "import numpy as np\n",
    "import plotly.graph_objects as go\n",
    "import dummy_prop_example\n",
    "from smt.sampling_methods import FullFactorial\n",
    "from smt.surrogate_models import KRG\n",
    "from sklearn.model_selection import train_test_split \n",
    "import sys\n",
    "from pathlib import Path\n",
    "sys.path[0] = str(Path(sys.path[0]).parent)\n",
    "# from unipy import surrogate_model\n",
    "\n",
    "%load_ext autoreload\n",
    "%autoreload 2"
   ]
  },
  {
   "cell_type": "markdown",
   "metadata": {},
   "source": [
    "**First let us consider a 'low fidelity' dataset. We could build a full factorial of data if this is cheap, so lets pretend to do that.**\n",
    "\n",
    "We also may choose to remove some cases, since we can't always successfully manage to build a full factorial set of structured data. \n",
    "\n",
    "Let us set up the sampling limits:\n",
    "\n",
    "*Note:* that we use the kwarg `clip=True` in order for the number of points to give a full grid."
   ]
  },
  {
   "cell_type": "code",
   "execution_count": 14,
   "metadata": {},
   "outputs": [
    {
     "name": "stdout",
     "output_type": "stream",
     "text": [
      "Actual number of samples generated is: 216\n"
     ]
    }
   ],
   "source": [
    "# setup each limit\n",
    "discangle_limits = [-90.0, 90.0]\n",
    "propspeed_limits = [400.0, 1200.0]\n",
    "airspeed_limits = [0.0, 60.0]\n",
    "# and we group them into a list\n",
    "xlimits = np.array([discangle_limits, airspeed_limits, propspeed_limits])\n",
    "# and make the full factorial sampling\n",
    "lf_sampling = FullFactorial(xlimits=xlimits, clip=True)\n",
    "number_of_lf_samples = 200\n",
    "lf_independent = lf_sampling(number_of_lf_samples)\n",
    "print(f\"Actual number of samples generated is: {lf_independent[:, 0].shape[0]}\")"
   ]
  },
  {
   "cell_type": "markdown",
   "metadata": {},
   "source": [
    "**now we can plot the inputs, just to see what we have achieved**"
   ]
  },
  {
   "cell_type": "code",
   "execution_count": 3,
   "metadata": {},
   "outputs": [
    {
     "data": {
      "application/vnd.plotly.v1+json": {
       "config": {
        "plotlyServerURL": "https://plot.ly"
       },
       "data": [
        {
         "marker": {
          "color": "LightSkyBlue",
          "size": 4
         },
         "mode": "markers",
         "type": "scatter3d",
         "x": [
          -90,
          -90,
          -90,
          -90,
          -90,
          -90,
          -90,
          -90,
          -90,
          -90,
          -90,
          -90,
          -90,
          -90,
          -90,
          -90,
          -90,
          -90,
          -90,
          -90,
          -90,
          -90,
          -90,
          -90,
          -90,
          -90,
          -90,
          -90,
          -90,
          -90,
          -90,
          -90,
          -90,
          -90,
          -90,
          -90,
          -54,
          -54,
          -54,
          -54,
          -54,
          -54,
          -54,
          -54,
          -54,
          -54,
          -54,
          -54,
          -54,
          -54,
          -54,
          -54,
          -54,
          -54,
          -54,
          -54,
          -54,
          -54,
          -54,
          -54,
          -54,
          -54,
          -54,
          -54,
          -54,
          -54,
          -54,
          -54,
          -54,
          -54,
          -54,
          -54,
          -18,
          -18,
          -18,
          -18,
          -18,
          -18,
          -18,
          -18,
          -18,
          -18,
          -18,
          -18,
          -18,
          -18,
          -18,
          -18,
          -18,
          -18,
          -18,
          -18,
          -18,
          -18,
          -18,
          -18,
          -18,
          -18,
          -18,
          -18,
          -18,
          -18,
          -18,
          -18,
          -18,
          -18,
          -18,
          -18,
          18.000000000000014,
          18.000000000000014,
          18.000000000000014,
          18.000000000000014,
          18.000000000000014,
          18.000000000000014,
          18.000000000000014,
          18.000000000000014,
          18.000000000000014,
          18.000000000000014,
          18.000000000000014,
          18.000000000000014,
          18.000000000000014,
          18.000000000000014,
          18.000000000000014,
          18.000000000000014,
          18.000000000000014,
          18.000000000000014,
          18.000000000000014,
          18.000000000000014,
          18.000000000000014,
          18.000000000000014,
          18.000000000000014,
          18.000000000000014,
          18.000000000000014,
          18.000000000000014,
          18.000000000000014,
          18.000000000000014,
          18.000000000000014,
          18.000000000000014,
          18.000000000000014,
          18.000000000000014,
          18.000000000000014,
          18.000000000000014,
          18.000000000000014,
          18.000000000000014,
          54,
          54,
          54,
          54,
          54,
          54,
          54,
          54,
          54,
          54,
          54,
          54,
          54,
          54,
          54,
          54,
          54,
          54,
          54,
          54,
          54,
          54,
          54,
          54,
          54,
          54,
          54,
          54,
          54,
          54,
          54,
          54,
          54,
          54,
          54,
          54,
          90,
          90,
          90,
          90,
          90,
          90,
          90,
          90,
          90,
          90,
          90,
          90,
          90,
          90,
          90,
          90,
          90,
          90,
          90,
          90,
          90,
          90,
          90,
          90,
          90,
          90,
          90,
          90,
          90,
          90,
          90,
          90,
          90,
          90,
          90,
          90
         ],
         "y": [
          0,
          0,
          0,
          0,
          0,
          0,
          12,
          12,
          12,
          12,
          12,
          12,
          24,
          24,
          24,
          24,
          24,
          24,
          36.00000000000001,
          36.00000000000001,
          36.00000000000001,
          36.00000000000001,
          36.00000000000001,
          36.00000000000001,
          48,
          48,
          48,
          48,
          48,
          48,
          60,
          60,
          60,
          60,
          60,
          60,
          0,
          0,
          0,
          0,
          0,
          0,
          12,
          12,
          12,
          12,
          12,
          12,
          24,
          24,
          24,
          24,
          24,
          24,
          36.00000000000001,
          36.00000000000001,
          36.00000000000001,
          36.00000000000001,
          36.00000000000001,
          36.00000000000001,
          48,
          48,
          48,
          48,
          48,
          48,
          60,
          60,
          60,
          60,
          60,
          60,
          0,
          0,
          0,
          0,
          0,
          0,
          12,
          12,
          12,
          12,
          12,
          12,
          24,
          24,
          24,
          24,
          24,
          24,
          36.00000000000001,
          36.00000000000001,
          36.00000000000001,
          36.00000000000001,
          36.00000000000001,
          36.00000000000001,
          48,
          48,
          48,
          48,
          48,
          48,
          60,
          60,
          60,
          60,
          60,
          60,
          0,
          0,
          0,
          0,
          0,
          0,
          12,
          12,
          12,
          12,
          12,
          12,
          24,
          24,
          24,
          24,
          24,
          24,
          36.00000000000001,
          36.00000000000001,
          36.00000000000001,
          36.00000000000001,
          36.00000000000001,
          36.00000000000001,
          48,
          48,
          48,
          48,
          48,
          48,
          60,
          60,
          60,
          60,
          60,
          60,
          0,
          0,
          0,
          0,
          0,
          0,
          12,
          12,
          12,
          12,
          12,
          12,
          24,
          24,
          24,
          24,
          24,
          24,
          36.00000000000001,
          36.00000000000001,
          36.00000000000001,
          36.00000000000001,
          36.00000000000001,
          36.00000000000001,
          48,
          48,
          48,
          48,
          48,
          48,
          60,
          60,
          60,
          60,
          60,
          60,
          0,
          0,
          0,
          0,
          0,
          0,
          12,
          12,
          12,
          12,
          12,
          12,
          24,
          24,
          24,
          24,
          24,
          24,
          36.00000000000001,
          36.00000000000001,
          36.00000000000001,
          36.00000000000001,
          36.00000000000001,
          36.00000000000001,
          48,
          48,
          48,
          48,
          48,
          48,
          60,
          60,
          60,
          60,
          60,
          60
         ],
         "z": [
          400,
          560,
          720,
          880,
          1040,
          1200,
          400,
          560,
          720,
          880,
          1040,
          1200,
          400,
          560,
          720,
          880,
          1040,
          1200,
          400,
          560,
          720,
          880,
          1040,
          1200,
          400,
          560,
          720,
          880,
          1040,
          1200,
          400,
          560,
          720,
          880,
          1040,
          1200,
          400,
          560,
          720,
          880,
          1040,
          1200,
          400,
          560,
          720,
          880,
          1040,
          1200,
          400,
          560,
          720,
          880,
          1040,
          1200,
          400,
          560,
          720,
          880,
          1040,
          1200,
          400,
          560,
          720,
          880,
          1040,
          1200,
          400,
          560,
          720,
          880,
          1040,
          1200,
          400,
          560,
          720,
          880,
          1040,
          1200,
          400,
          560,
          720,
          880,
          1040,
          1200,
          400,
          560,
          720,
          880,
          1040,
          1200,
          400,
          560,
          720,
          880,
          1040,
          1200,
          400,
          560,
          720,
          880,
          1040,
          1200,
          400,
          560,
          720,
          880,
          1040,
          1200,
          400,
          560,
          720,
          880,
          1040,
          1200,
          400,
          560,
          720,
          880,
          1040,
          1200,
          400,
          560,
          720,
          880,
          1040,
          1200,
          400,
          560,
          720,
          880,
          1040,
          1200,
          400,
          560,
          720,
          880,
          1040,
          1200,
          400,
          560,
          720,
          880,
          1040,
          1200,
          400,
          560,
          720,
          880,
          1040,
          1200,
          400,
          560,
          720,
          880,
          1040,
          1200,
          400,
          560,
          720,
          880,
          1040,
          1200,
          400,
          560,
          720,
          880,
          1040,
          1200,
          400,
          560,
          720,
          880,
          1040,
          1200,
          400,
          560,
          720,
          880,
          1040,
          1200,
          400,
          560,
          720,
          880,
          1040,
          1200,
          400,
          560,
          720,
          880,
          1040,
          1200,
          400,
          560,
          720,
          880,
          1040,
          1200,
          400,
          560,
          720,
          880,
          1040,
          1200,
          400,
          560,
          720,
          880,
          1040,
          1200,
          400,
          560,
          720,
          880,
          1040,
          1200
         ]
        }
       ],
       "layout": {
        "scene": {
         "xaxis": {
          "title": {
           "text": "disc angle [deg]"
          }
         },
         "yaxis": {
          "title": {
           "text": "airspeed [m/s]"
          }
         },
         "zaxis": {
          "title": {
           "text": "prop speed [RPM]"
          }
         }
        },
        "template": {
         "data": {
          "bar": [
           {
            "error_x": {
             "color": "#2a3f5f"
            },
            "error_y": {
             "color": "#2a3f5f"
            },
            "marker": {
             "line": {
              "color": "#E5ECF6",
              "width": 0.5
             },
             "pattern": {
              "fillmode": "overlay",
              "size": 10,
              "solidity": 0.2
             }
            },
            "type": "bar"
           }
          ],
          "barpolar": [
           {
            "marker": {
             "line": {
              "color": "#E5ECF6",
              "width": 0.5
             },
             "pattern": {
              "fillmode": "overlay",
              "size": 10,
              "solidity": 0.2
             }
            },
            "type": "barpolar"
           }
          ],
          "carpet": [
           {
            "aaxis": {
             "endlinecolor": "#2a3f5f",
             "gridcolor": "white",
             "linecolor": "white",
             "minorgridcolor": "white",
             "startlinecolor": "#2a3f5f"
            },
            "baxis": {
             "endlinecolor": "#2a3f5f",
             "gridcolor": "white",
             "linecolor": "white",
             "minorgridcolor": "white",
             "startlinecolor": "#2a3f5f"
            },
            "type": "carpet"
           }
          ],
          "choropleth": [
           {
            "colorbar": {
             "outlinewidth": 0,
             "ticks": ""
            },
            "type": "choropleth"
           }
          ],
          "contour": [
           {
            "colorbar": {
             "outlinewidth": 0,
             "ticks": ""
            },
            "colorscale": [
             [
              0,
              "#0d0887"
             ],
             [
              0.1111111111111111,
              "#46039f"
             ],
             [
              0.2222222222222222,
              "#7201a8"
             ],
             [
              0.3333333333333333,
              "#9c179e"
             ],
             [
              0.4444444444444444,
              "#bd3786"
             ],
             [
              0.5555555555555556,
              "#d8576b"
             ],
             [
              0.6666666666666666,
              "#ed7953"
             ],
             [
              0.7777777777777778,
              "#fb9f3a"
             ],
             [
              0.8888888888888888,
              "#fdca26"
             ],
             [
              1,
              "#f0f921"
             ]
            ],
            "type": "contour"
           }
          ],
          "contourcarpet": [
           {
            "colorbar": {
             "outlinewidth": 0,
             "ticks": ""
            },
            "type": "contourcarpet"
           }
          ],
          "heatmap": [
           {
            "colorbar": {
             "outlinewidth": 0,
             "ticks": ""
            },
            "colorscale": [
             [
              0,
              "#0d0887"
             ],
             [
              0.1111111111111111,
              "#46039f"
             ],
             [
              0.2222222222222222,
              "#7201a8"
             ],
             [
              0.3333333333333333,
              "#9c179e"
             ],
             [
              0.4444444444444444,
              "#bd3786"
             ],
             [
              0.5555555555555556,
              "#d8576b"
             ],
             [
              0.6666666666666666,
              "#ed7953"
             ],
             [
              0.7777777777777778,
              "#fb9f3a"
             ],
             [
              0.8888888888888888,
              "#fdca26"
             ],
             [
              1,
              "#f0f921"
             ]
            ],
            "type": "heatmap"
           }
          ],
          "heatmapgl": [
           {
            "colorbar": {
             "outlinewidth": 0,
             "ticks": ""
            },
            "colorscale": [
             [
              0,
              "#0d0887"
             ],
             [
              0.1111111111111111,
              "#46039f"
             ],
             [
              0.2222222222222222,
              "#7201a8"
             ],
             [
              0.3333333333333333,
              "#9c179e"
             ],
             [
              0.4444444444444444,
              "#bd3786"
             ],
             [
              0.5555555555555556,
              "#d8576b"
             ],
             [
              0.6666666666666666,
              "#ed7953"
             ],
             [
              0.7777777777777778,
              "#fb9f3a"
             ],
             [
              0.8888888888888888,
              "#fdca26"
             ],
             [
              1,
              "#f0f921"
             ]
            ],
            "type": "heatmapgl"
           }
          ],
          "histogram": [
           {
            "marker": {
             "pattern": {
              "fillmode": "overlay",
              "size": 10,
              "solidity": 0.2
             }
            },
            "type": "histogram"
           }
          ],
          "histogram2d": [
           {
            "colorbar": {
             "outlinewidth": 0,
             "ticks": ""
            },
            "colorscale": [
             [
              0,
              "#0d0887"
             ],
             [
              0.1111111111111111,
              "#46039f"
             ],
             [
              0.2222222222222222,
              "#7201a8"
             ],
             [
              0.3333333333333333,
              "#9c179e"
             ],
             [
              0.4444444444444444,
              "#bd3786"
             ],
             [
              0.5555555555555556,
              "#d8576b"
             ],
             [
              0.6666666666666666,
              "#ed7953"
             ],
             [
              0.7777777777777778,
              "#fb9f3a"
             ],
             [
              0.8888888888888888,
              "#fdca26"
             ],
             [
              1,
              "#f0f921"
             ]
            ],
            "type": "histogram2d"
           }
          ],
          "histogram2dcontour": [
           {
            "colorbar": {
             "outlinewidth": 0,
             "ticks": ""
            },
            "colorscale": [
             [
              0,
              "#0d0887"
             ],
             [
              0.1111111111111111,
              "#46039f"
             ],
             [
              0.2222222222222222,
              "#7201a8"
             ],
             [
              0.3333333333333333,
              "#9c179e"
             ],
             [
              0.4444444444444444,
              "#bd3786"
             ],
             [
              0.5555555555555556,
              "#d8576b"
             ],
             [
              0.6666666666666666,
              "#ed7953"
             ],
             [
              0.7777777777777778,
              "#fb9f3a"
             ],
             [
              0.8888888888888888,
              "#fdca26"
             ],
             [
              1,
              "#f0f921"
             ]
            ],
            "type": "histogram2dcontour"
           }
          ],
          "mesh3d": [
           {
            "colorbar": {
             "outlinewidth": 0,
             "ticks": ""
            },
            "type": "mesh3d"
           }
          ],
          "parcoords": [
           {
            "line": {
             "colorbar": {
              "outlinewidth": 0,
              "ticks": ""
             }
            },
            "type": "parcoords"
           }
          ],
          "pie": [
           {
            "automargin": true,
            "type": "pie"
           }
          ],
          "scatter": [
           {
            "fillpattern": {
             "fillmode": "overlay",
             "size": 10,
             "solidity": 0.2
            },
            "type": "scatter"
           }
          ],
          "scatter3d": [
           {
            "line": {
             "colorbar": {
              "outlinewidth": 0,
              "ticks": ""
             }
            },
            "marker": {
             "colorbar": {
              "outlinewidth": 0,
              "ticks": ""
             }
            },
            "type": "scatter3d"
           }
          ],
          "scattercarpet": [
           {
            "marker": {
             "colorbar": {
              "outlinewidth": 0,
              "ticks": ""
             }
            },
            "type": "scattercarpet"
           }
          ],
          "scattergeo": [
           {
            "marker": {
             "colorbar": {
              "outlinewidth": 0,
              "ticks": ""
             }
            },
            "type": "scattergeo"
           }
          ],
          "scattergl": [
           {
            "marker": {
             "colorbar": {
              "outlinewidth": 0,
              "ticks": ""
             }
            },
            "type": "scattergl"
           }
          ],
          "scattermapbox": [
           {
            "marker": {
             "colorbar": {
              "outlinewidth": 0,
              "ticks": ""
             }
            },
            "type": "scattermapbox"
           }
          ],
          "scatterpolar": [
           {
            "marker": {
             "colorbar": {
              "outlinewidth": 0,
              "ticks": ""
             }
            },
            "type": "scatterpolar"
           }
          ],
          "scatterpolargl": [
           {
            "marker": {
             "colorbar": {
              "outlinewidth": 0,
              "ticks": ""
             }
            },
            "type": "scatterpolargl"
           }
          ],
          "scatterternary": [
           {
            "marker": {
             "colorbar": {
              "outlinewidth": 0,
              "ticks": ""
             }
            },
            "type": "scatterternary"
           }
          ],
          "surface": [
           {
            "colorbar": {
             "outlinewidth": 0,
             "ticks": ""
            },
            "colorscale": [
             [
              0,
              "#0d0887"
             ],
             [
              0.1111111111111111,
              "#46039f"
             ],
             [
              0.2222222222222222,
              "#7201a8"
             ],
             [
              0.3333333333333333,
              "#9c179e"
             ],
             [
              0.4444444444444444,
              "#bd3786"
             ],
             [
              0.5555555555555556,
              "#d8576b"
             ],
             [
              0.6666666666666666,
              "#ed7953"
             ],
             [
              0.7777777777777778,
              "#fb9f3a"
             ],
             [
              0.8888888888888888,
              "#fdca26"
             ],
             [
              1,
              "#f0f921"
             ]
            ],
            "type": "surface"
           }
          ],
          "table": [
           {
            "cells": {
             "fill": {
              "color": "#EBF0F8"
             },
             "line": {
              "color": "white"
             }
            },
            "header": {
             "fill": {
              "color": "#C8D4E3"
             },
             "line": {
              "color": "white"
             }
            },
            "type": "table"
           }
          ]
         },
         "layout": {
          "annotationdefaults": {
           "arrowcolor": "#2a3f5f",
           "arrowhead": 0,
           "arrowwidth": 1
          },
          "autotypenumbers": "strict",
          "coloraxis": {
           "colorbar": {
            "outlinewidth": 0,
            "ticks": ""
           }
          },
          "colorscale": {
           "diverging": [
            [
             0,
             "#8e0152"
            ],
            [
             0.1,
             "#c51b7d"
            ],
            [
             0.2,
             "#de77ae"
            ],
            [
             0.3,
             "#f1b6da"
            ],
            [
             0.4,
             "#fde0ef"
            ],
            [
             0.5,
             "#f7f7f7"
            ],
            [
             0.6,
             "#e6f5d0"
            ],
            [
             0.7,
             "#b8e186"
            ],
            [
             0.8,
             "#7fbc41"
            ],
            [
             0.9,
             "#4d9221"
            ],
            [
             1,
             "#276419"
            ]
           ],
           "sequential": [
            [
             0,
             "#0d0887"
            ],
            [
             0.1111111111111111,
             "#46039f"
            ],
            [
             0.2222222222222222,
             "#7201a8"
            ],
            [
             0.3333333333333333,
             "#9c179e"
            ],
            [
             0.4444444444444444,
             "#bd3786"
            ],
            [
             0.5555555555555556,
             "#d8576b"
            ],
            [
             0.6666666666666666,
             "#ed7953"
            ],
            [
             0.7777777777777778,
             "#fb9f3a"
            ],
            [
             0.8888888888888888,
             "#fdca26"
            ],
            [
             1,
             "#f0f921"
            ]
           ],
           "sequentialminus": [
            [
             0,
             "#0d0887"
            ],
            [
             0.1111111111111111,
             "#46039f"
            ],
            [
             0.2222222222222222,
             "#7201a8"
            ],
            [
             0.3333333333333333,
             "#9c179e"
            ],
            [
             0.4444444444444444,
             "#bd3786"
            ],
            [
             0.5555555555555556,
             "#d8576b"
            ],
            [
             0.6666666666666666,
             "#ed7953"
            ],
            [
             0.7777777777777778,
             "#fb9f3a"
            ],
            [
             0.8888888888888888,
             "#fdca26"
            ],
            [
             1,
             "#f0f921"
            ]
           ]
          },
          "colorway": [
           "#636efa",
           "#EF553B",
           "#00cc96",
           "#ab63fa",
           "#FFA15A",
           "#19d3f3",
           "#FF6692",
           "#B6E880",
           "#FF97FF",
           "#FECB52"
          ],
          "font": {
           "color": "#2a3f5f"
          },
          "geo": {
           "bgcolor": "white",
           "lakecolor": "white",
           "landcolor": "#E5ECF6",
           "showlakes": true,
           "showland": true,
           "subunitcolor": "white"
          },
          "hoverlabel": {
           "align": "left"
          },
          "hovermode": "closest",
          "mapbox": {
           "style": "light"
          },
          "paper_bgcolor": "white",
          "plot_bgcolor": "#E5ECF6",
          "polar": {
           "angularaxis": {
            "gridcolor": "white",
            "linecolor": "white",
            "ticks": ""
           },
           "bgcolor": "#E5ECF6",
           "radialaxis": {
            "gridcolor": "white",
            "linecolor": "white",
            "ticks": ""
           }
          },
          "scene": {
           "xaxis": {
            "backgroundcolor": "#E5ECF6",
            "gridcolor": "white",
            "gridwidth": 2,
            "linecolor": "white",
            "showbackground": true,
            "ticks": "",
            "zerolinecolor": "white"
           },
           "yaxis": {
            "backgroundcolor": "#E5ECF6",
            "gridcolor": "white",
            "gridwidth": 2,
            "linecolor": "white",
            "showbackground": true,
            "ticks": "",
            "zerolinecolor": "white"
           },
           "zaxis": {
            "backgroundcolor": "#E5ECF6",
            "gridcolor": "white",
            "gridwidth": 2,
            "linecolor": "white",
            "showbackground": true,
            "ticks": "",
            "zerolinecolor": "white"
           }
          },
          "shapedefaults": {
           "line": {
            "color": "#2a3f5f"
           }
          },
          "ternary": {
           "aaxis": {
            "gridcolor": "white",
            "linecolor": "white",
            "ticks": ""
           },
           "baxis": {
            "gridcolor": "white",
            "linecolor": "white",
            "ticks": ""
           },
           "bgcolor": "#E5ECF6",
           "caxis": {
            "gridcolor": "white",
            "linecolor": "white",
            "ticks": ""
           }
          },
          "title": {
           "x": 0.05
          },
          "xaxis": {
           "automargin": true,
           "gridcolor": "white",
           "linecolor": "white",
           "ticks": "",
           "title": {
            "standoff": 15
           },
           "zerolinecolor": "white",
           "zerolinewidth": 2
          },
          "yaxis": {
           "automargin": true,
           "gridcolor": "white",
           "linecolor": "white",
           "ticks": "",
           "title": {
            "standoff": 15
           },
           "zerolinecolor": "white",
           "zerolinewidth": 2
          }
         }
        }
       }
      }
     },
     "metadata": {},
     "output_type": "display_data"
    }
   ],
   "source": [
    "fig = go.Figure(\n",
    "    data=[\n",
    "        go.Scatter3d(\n",
    "            x=lf_independent[:, 0],\n",
    "            y=lf_independent[:, 1],\n",
    "            z=lf_independent[:, 2],\n",
    "            mode=\"markers\",\n",
    "            marker=dict(color=\"LightSkyBlue\", size=4),\n",
    "        )\n",
    "    ]\n",
    ")\n",
    "\n",
    "fig.update_layout(\n",
    "    scene=dict(\n",
    "        xaxis_title=\"disc angle [deg]\",\n",
    "        yaxis_title=\"airspeed [m/s]\",\n",
    "        zaxis_title=\"prop speed [RPM]\",\n",
    "    ),\n",
    ")\n",
    "\n",
    "fig.show()\n"
   ]
  },
  {
   "cell_type": "markdown",
   "metadata": {},
   "source": [
    "**It is now time to build a Pandas DataFrame, containg all of this data**\n",
    "\n",
    "We don't really need to do this to build a Kirging surrogate, however we are doing this as it is common that the data won't just come out as a tidy NumPy array, and instead will be loads from some .csv file or similar.\n",
    "\n",
    "*Note:* that the arguments after the sampling points are used to caluclate the dependent variable and are unique to the propeller example we are running."
   ]
  },
  {
   "cell_type": "code",
   "execution_count": 16,
   "metadata": {},
   "outputs": [
    {
     "data": {
      "text/html": [
       "<div>\n",
       "<style scoped>\n",
       "    .dataframe tbody tr th:only-of-type {\n",
       "        vertical-align: middle;\n",
       "    }\n",
       "\n",
       "    .dataframe tbody tr th {\n",
       "        vertical-align: top;\n",
       "    }\n",
       "\n",
       "    .dataframe thead th {\n",
       "        text-align: right;\n",
       "    }\n",
       "</style>\n",
       "<table border=\"1\" class=\"dataframe\">\n",
       "  <thead>\n",
       "    <tr style=\"text-align: right;\">\n",
       "      <th></th>\n",
       "      <th>airspeed</th>\n",
       "      <th>discangle</th>\n",
       "      <th>propspeed</th>\n",
       "      <th>load</th>\n",
       "    </tr>\n",
       "  </thead>\n",
       "  <tbody>\n",
       "    <tr>\n",
       "      <th>0</th>\n",
       "      <td>0.0</td>\n",
       "      <td>-90.0</td>\n",
       "      <td>400.0</td>\n",
       "      <td>640.0</td>\n",
       "    </tr>\n",
       "    <tr>\n",
       "      <th>1</th>\n",
       "      <td>0.0</td>\n",
       "      <td>-90.0</td>\n",
       "      <td>560.0</td>\n",
       "      <td>1254.4</td>\n",
       "    </tr>\n",
       "    <tr>\n",
       "      <th>2</th>\n",
       "      <td>0.0</td>\n",
       "      <td>-90.0</td>\n",
       "      <td>720.0</td>\n",
       "      <td>2073.6</td>\n",
       "    </tr>\n",
       "    <tr>\n",
       "      <th>3</th>\n",
       "      <td>0.0</td>\n",
       "      <td>-90.0</td>\n",
       "      <td>880.0</td>\n",
       "      <td>3097.6</td>\n",
       "    </tr>\n",
       "    <tr>\n",
       "      <th>4</th>\n",
       "      <td>0.0</td>\n",
       "      <td>-90.0</td>\n",
       "      <td>1040.0</td>\n",
       "      <td>4326.4</td>\n",
       "    </tr>\n",
       "    <tr>\n",
       "      <th>...</th>\n",
       "      <td>...</td>\n",
       "      <td>...</td>\n",
       "      <td>...</td>\n",
       "      <td>...</td>\n",
       "    </tr>\n",
       "    <tr>\n",
       "      <th>211</th>\n",
       "      <td>60.0</td>\n",
       "      <td>90.0</td>\n",
       "      <td>560.0</td>\n",
       "      <td>12774.4</td>\n",
       "    </tr>\n",
       "    <tr>\n",
       "      <th>212</th>\n",
       "      <td>60.0</td>\n",
       "      <td>90.0</td>\n",
       "      <td>720.0</td>\n",
       "      <td>13593.6</td>\n",
       "    </tr>\n",
       "    <tr>\n",
       "      <th>213</th>\n",
       "      <td>60.0</td>\n",
       "      <td>90.0</td>\n",
       "      <td>880.0</td>\n",
       "      <td>14617.6</td>\n",
       "    </tr>\n",
       "    <tr>\n",
       "      <th>214</th>\n",
       "      <td>60.0</td>\n",
       "      <td>90.0</td>\n",
       "      <td>1040.0</td>\n",
       "      <td>15846.4</td>\n",
       "    </tr>\n",
       "    <tr>\n",
       "      <th>215</th>\n",
       "      <td>60.0</td>\n",
       "      <td>90.0</td>\n",
       "      <td>1200.0</td>\n",
       "      <td>17280.0</td>\n",
       "    </tr>\n",
       "  </tbody>\n",
       "</table>\n",
       "<p>216 rows × 4 columns</p>\n",
       "</div>"
      ],
      "text/plain": [
       "     airspeed  discangle  propspeed     load\n",
       "0         0.0      -90.0      400.0    640.0\n",
       "1         0.0      -90.0      560.0   1254.4\n",
       "2         0.0      -90.0      720.0   2073.6\n",
       "3         0.0      -90.0      880.0   3097.6\n",
       "4         0.0      -90.0     1040.0   4326.4\n",
       "..        ...        ...        ...      ...\n",
       "211      60.0       90.0      560.0  12774.4\n",
       "212      60.0       90.0      720.0  13593.6\n",
       "213      60.0       90.0      880.0  14617.6\n",
       "214      60.0       90.0     1040.0  15846.4\n",
       "215      60.0       90.0     1200.0  17280.0\n",
       "\n",
       "[216 rows x 4 columns]"
      ]
     },
     "metadata": {},
     "output_type": "display_data"
    }
   ],
   "source": [
    "lf_data_df: pd.DataFrame = dummy_prop_example.lf_data(\n",
    "    lf_independent[:, 0],\n",
    "    lf_independent[:, 1],\n",
    "    lf_independent[:, 2],\n",
    "    1000.0,\n",
    "    4000.0,\n",
    ")\n",
    "\n",
    "display(lf_data_df)"
   ]
  },
  {
   "cell_type": "markdown",
   "metadata": {},
   "source": [
    "**At this stage, it is probably worthwhile to see what the data looks like**\n",
    "\n",
    "*Note:* that this data and the trends are made up, the trends are also made up"
   ]
  },
  {
   "cell_type": "code",
   "execution_count": 17,
   "metadata": {},
   "outputs": [
    {
     "data": {
      "application/vnd.plotly.v1+json": {
       "config": {
        "plotlyServerURL": "https://plot.ly"
       },
       "data": [
        {
         "marker": {
          "color": "LightSkyBlue",
          "size": 4
         },
         "mode": "markers",
         "type": "scatter3d",
         "x": [
          -90,
          -90,
          -90,
          -90,
          -90,
          -90,
          -54,
          -54,
          -54,
          -54,
          -54,
          -54,
          -18,
          -18,
          -18,
          -18,
          -18,
          -18,
          18.000000000000014,
          18.000000000000014,
          18.000000000000014,
          18.000000000000014,
          18.000000000000014,
          18.000000000000014,
          54,
          54,
          54,
          54,
          54,
          54,
          90,
          90,
          90,
          90,
          90,
          90
         ],
         "y": [
          0,
          12,
          24,
          36.00000000000001,
          48,
          60,
          0,
          12,
          24,
          36.00000000000001,
          48,
          60,
          0,
          12,
          24,
          36.00000000000001,
          48,
          60,
          0,
          12,
          24,
          36.00000000000001,
          48,
          60,
          0,
          12,
          24,
          36.00000000000001,
          48,
          60,
          0,
          12,
          24,
          36.00000000000001,
          48,
          60
         ],
         "z": [
          5760,
          3456,
          1151.9999999999998,
          -1152.000000000001,
          -3456.0000000000005,
          -5760,
          5760,
          3896.024844960121,
          2032.0496899202424,
          168.0745348803618,
          -1695.9006201595155,
          -3559.875775199396,
          5760,
          5048.024844960121,
          4336.049689920243,
          3624.074534880363,
          2912.0993798404847,
          2200.124224800606,
          5760,
          6471.97515503988,
          7183.950310079759,
          7895.925465119638,
          8607.900620159518,
          9319.875775199398,
          5760,
          7623.97515503988,
          9487.95031007976,
          11351.925465119639,
          13215.900620159517,
          15079.875775199394,
          5760,
          8063.999999999999,
          10368,
          12672.000000000002,
          14976,
          17280
         ]
        }
       ],
       "layout": {
        "scene": {
         "xaxis": {
          "title": {
           "text": "disc angle [deg]"
          }
         },
         "yaxis": {
          "title": {
           "text": "airspeed [m/s]"
          }
         },
         "zaxis": {
          "title": {
           "text": "thrust [N]"
          }
         }
        },
        "template": {
         "data": {
          "bar": [
           {
            "error_x": {
             "color": "#2a3f5f"
            },
            "error_y": {
             "color": "#2a3f5f"
            },
            "marker": {
             "line": {
              "color": "#E5ECF6",
              "width": 0.5
             },
             "pattern": {
              "fillmode": "overlay",
              "size": 10,
              "solidity": 0.2
             }
            },
            "type": "bar"
           }
          ],
          "barpolar": [
           {
            "marker": {
             "line": {
              "color": "#E5ECF6",
              "width": 0.5
             },
             "pattern": {
              "fillmode": "overlay",
              "size": 10,
              "solidity": 0.2
             }
            },
            "type": "barpolar"
           }
          ],
          "carpet": [
           {
            "aaxis": {
             "endlinecolor": "#2a3f5f",
             "gridcolor": "white",
             "linecolor": "white",
             "minorgridcolor": "white",
             "startlinecolor": "#2a3f5f"
            },
            "baxis": {
             "endlinecolor": "#2a3f5f",
             "gridcolor": "white",
             "linecolor": "white",
             "minorgridcolor": "white",
             "startlinecolor": "#2a3f5f"
            },
            "type": "carpet"
           }
          ],
          "choropleth": [
           {
            "colorbar": {
             "outlinewidth": 0,
             "ticks": ""
            },
            "type": "choropleth"
           }
          ],
          "contour": [
           {
            "colorbar": {
             "outlinewidth": 0,
             "ticks": ""
            },
            "colorscale": [
             [
              0,
              "#0d0887"
             ],
             [
              0.1111111111111111,
              "#46039f"
             ],
             [
              0.2222222222222222,
              "#7201a8"
             ],
             [
              0.3333333333333333,
              "#9c179e"
             ],
             [
              0.4444444444444444,
              "#bd3786"
             ],
             [
              0.5555555555555556,
              "#d8576b"
             ],
             [
              0.6666666666666666,
              "#ed7953"
             ],
             [
              0.7777777777777778,
              "#fb9f3a"
             ],
             [
              0.8888888888888888,
              "#fdca26"
             ],
             [
              1,
              "#f0f921"
             ]
            ],
            "type": "contour"
           }
          ],
          "contourcarpet": [
           {
            "colorbar": {
             "outlinewidth": 0,
             "ticks": ""
            },
            "type": "contourcarpet"
           }
          ],
          "heatmap": [
           {
            "colorbar": {
             "outlinewidth": 0,
             "ticks": ""
            },
            "colorscale": [
             [
              0,
              "#0d0887"
             ],
             [
              0.1111111111111111,
              "#46039f"
             ],
             [
              0.2222222222222222,
              "#7201a8"
             ],
             [
              0.3333333333333333,
              "#9c179e"
             ],
             [
              0.4444444444444444,
              "#bd3786"
             ],
             [
              0.5555555555555556,
              "#d8576b"
             ],
             [
              0.6666666666666666,
              "#ed7953"
             ],
             [
              0.7777777777777778,
              "#fb9f3a"
             ],
             [
              0.8888888888888888,
              "#fdca26"
             ],
             [
              1,
              "#f0f921"
             ]
            ],
            "type": "heatmap"
           }
          ],
          "heatmapgl": [
           {
            "colorbar": {
             "outlinewidth": 0,
             "ticks": ""
            },
            "colorscale": [
             [
              0,
              "#0d0887"
             ],
             [
              0.1111111111111111,
              "#46039f"
             ],
             [
              0.2222222222222222,
              "#7201a8"
             ],
             [
              0.3333333333333333,
              "#9c179e"
             ],
             [
              0.4444444444444444,
              "#bd3786"
             ],
             [
              0.5555555555555556,
              "#d8576b"
             ],
             [
              0.6666666666666666,
              "#ed7953"
             ],
             [
              0.7777777777777778,
              "#fb9f3a"
             ],
             [
              0.8888888888888888,
              "#fdca26"
             ],
             [
              1,
              "#f0f921"
             ]
            ],
            "type": "heatmapgl"
           }
          ],
          "histogram": [
           {
            "marker": {
             "pattern": {
              "fillmode": "overlay",
              "size": 10,
              "solidity": 0.2
             }
            },
            "type": "histogram"
           }
          ],
          "histogram2d": [
           {
            "colorbar": {
             "outlinewidth": 0,
             "ticks": ""
            },
            "colorscale": [
             [
              0,
              "#0d0887"
             ],
             [
              0.1111111111111111,
              "#46039f"
             ],
             [
              0.2222222222222222,
              "#7201a8"
             ],
             [
              0.3333333333333333,
              "#9c179e"
             ],
             [
              0.4444444444444444,
              "#bd3786"
             ],
             [
              0.5555555555555556,
              "#d8576b"
             ],
             [
              0.6666666666666666,
              "#ed7953"
             ],
             [
              0.7777777777777778,
              "#fb9f3a"
             ],
             [
              0.8888888888888888,
              "#fdca26"
             ],
             [
              1,
              "#f0f921"
             ]
            ],
            "type": "histogram2d"
           }
          ],
          "histogram2dcontour": [
           {
            "colorbar": {
             "outlinewidth": 0,
             "ticks": ""
            },
            "colorscale": [
             [
              0,
              "#0d0887"
             ],
             [
              0.1111111111111111,
              "#46039f"
             ],
             [
              0.2222222222222222,
              "#7201a8"
             ],
             [
              0.3333333333333333,
              "#9c179e"
             ],
             [
              0.4444444444444444,
              "#bd3786"
             ],
             [
              0.5555555555555556,
              "#d8576b"
             ],
             [
              0.6666666666666666,
              "#ed7953"
             ],
             [
              0.7777777777777778,
              "#fb9f3a"
             ],
             [
              0.8888888888888888,
              "#fdca26"
             ],
             [
              1,
              "#f0f921"
             ]
            ],
            "type": "histogram2dcontour"
           }
          ],
          "mesh3d": [
           {
            "colorbar": {
             "outlinewidth": 0,
             "ticks": ""
            },
            "type": "mesh3d"
           }
          ],
          "parcoords": [
           {
            "line": {
             "colorbar": {
              "outlinewidth": 0,
              "ticks": ""
             }
            },
            "type": "parcoords"
           }
          ],
          "pie": [
           {
            "automargin": true,
            "type": "pie"
           }
          ],
          "scatter": [
           {
            "fillpattern": {
             "fillmode": "overlay",
             "size": 10,
             "solidity": 0.2
            },
            "type": "scatter"
           }
          ],
          "scatter3d": [
           {
            "line": {
             "colorbar": {
              "outlinewidth": 0,
              "ticks": ""
             }
            },
            "marker": {
             "colorbar": {
              "outlinewidth": 0,
              "ticks": ""
             }
            },
            "type": "scatter3d"
           }
          ],
          "scattercarpet": [
           {
            "marker": {
             "colorbar": {
              "outlinewidth": 0,
              "ticks": ""
             }
            },
            "type": "scattercarpet"
           }
          ],
          "scattergeo": [
           {
            "marker": {
             "colorbar": {
              "outlinewidth": 0,
              "ticks": ""
             }
            },
            "type": "scattergeo"
           }
          ],
          "scattergl": [
           {
            "marker": {
             "colorbar": {
              "outlinewidth": 0,
              "ticks": ""
             }
            },
            "type": "scattergl"
           }
          ],
          "scattermapbox": [
           {
            "marker": {
             "colorbar": {
              "outlinewidth": 0,
              "ticks": ""
             }
            },
            "type": "scattermapbox"
           }
          ],
          "scatterpolar": [
           {
            "marker": {
             "colorbar": {
              "outlinewidth": 0,
              "ticks": ""
             }
            },
            "type": "scatterpolar"
           }
          ],
          "scatterpolargl": [
           {
            "marker": {
             "colorbar": {
              "outlinewidth": 0,
              "ticks": ""
             }
            },
            "type": "scatterpolargl"
           }
          ],
          "scatterternary": [
           {
            "marker": {
             "colorbar": {
              "outlinewidth": 0,
              "ticks": ""
             }
            },
            "type": "scatterternary"
           }
          ],
          "surface": [
           {
            "colorbar": {
             "outlinewidth": 0,
             "ticks": ""
            },
            "colorscale": [
             [
              0,
              "#0d0887"
             ],
             [
              0.1111111111111111,
              "#46039f"
             ],
             [
              0.2222222222222222,
              "#7201a8"
             ],
             [
              0.3333333333333333,
              "#9c179e"
             ],
             [
              0.4444444444444444,
              "#bd3786"
             ],
             [
              0.5555555555555556,
              "#d8576b"
             ],
             [
              0.6666666666666666,
              "#ed7953"
             ],
             [
              0.7777777777777778,
              "#fb9f3a"
             ],
             [
              0.8888888888888888,
              "#fdca26"
             ],
             [
              1,
              "#f0f921"
             ]
            ],
            "type": "surface"
           }
          ],
          "table": [
           {
            "cells": {
             "fill": {
              "color": "#EBF0F8"
             },
             "line": {
              "color": "white"
             }
            },
            "header": {
             "fill": {
              "color": "#C8D4E3"
             },
             "line": {
              "color": "white"
             }
            },
            "type": "table"
           }
          ]
         },
         "layout": {
          "annotationdefaults": {
           "arrowcolor": "#2a3f5f",
           "arrowhead": 0,
           "arrowwidth": 1
          },
          "autotypenumbers": "strict",
          "coloraxis": {
           "colorbar": {
            "outlinewidth": 0,
            "ticks": ""
           }
          },
          "colorscale": {
           "diverging": [
            [
             0,
             "#8e0152"
            ],
            [
             0.1,
             "#c51b7d"
            ],
            [
             0.2,
             "#de77ae"
            ],
            [
             0.3,
             "#f1b6da"
            ],
            [
             0.4,
             "#fde0ef"
            ],
            [
             0.5,
             "#f7f7f7"
            ],
            [
             0.6,
             "#e6f5d0"
            ],
            [
             0.7,
             "#b8e186"
            ],
            [
             0.8,
             "#7fbc41"
            ],
            [
             0.9,
             "#4d9221"
            ],
            [
             1,
             "#276419"
            ]
           ],
           "sequential": [
            [
             0,
             "#0d0887"
            ],
            [
             0.1111111111111111,
             "#46039f"
            ],
            [
             0.2222222222222222,
             "#7201a8"
            ],
            [
             0.3333333333333333,
             "#9c179e"
            ],
            [
             0.4444444444444444,
             "#bd3786"
            ],
            [
             0.5555555555555556,
             "#d8576b"
            ],
            [
             0.6666666666666666,
             "#ed7953"
            ],
            [
             0.7777777777777778,
             "#fb9f3a"
            ],
            [
             0.8888888888888888,
             "#fdca26"
            ],
            [
             1,
             "#f0f921"
            ]
           ],
           "sequentialminus": [
            [
             0,
             "#0d0887"
            ],
            [
             0.1111111111111111,
             "#46039f"
            ],
            [
             0.2222222222222222,
             "#7201a8"
            ],
            [
             0.3333333333333333,
             "#9c179e"
            ],
            [
             0.4444444444444444,
             "#bd3786"
            ],
            [
             0.5555555555555556,
             "#d8576b"
            ],
            [
             0.6666666666666666,
             "#ed7953"
            ],
            [
             0.7777777777777778,
             "#fb9f3a"
            ],
            [
             0.8888888888888888,
             "#fdca26"
            ],
            [
             1,
             "#f0f921"
            ]
           ]
          },
          "colorway": [
           "#636efa",
           "#EF553B",
           "#00cc96",
           "#ab63fa",
           "#FFA15A",
           "#19d3f3",
           "#FF6692",
           "#B6E880",
           "#FF97FF",
           "#FECB52"
          ],
          "font": {
           "color": "#2a3f5f"
          },
          "geo": {
           "bgcolor": "white",
           "lakecolor": "white",
           "landcolor": "#E5ECF6",
           "showlakes": true,
           "showland": true,
           "subunitcolor": "white"
          },
          "hoverlabel": {
           "align": "left"
          },
          "hovermode": "closest",
          "mapbox": {
           "style": "light"
          },
          "paper_bgcolor": "white",
          "plot_bgcolor": "#E5ECF6",
          "polar": {
           "angularaxis": {
            "gridcolor": "white",
            "linecolor": "white",
            "ticks": ""
           },
           "bgcolor": "#E5ECF6",
           "radialaxis": {
            "gridcolor": "white",
            "linecolor": "white",
            "ticks": ""
           }
          },
          "scene": {
           "xaxis": {
            "backgroundcolor": "#E5ECF6",
            "gridcolor": "white",
            "gridwidth": 2,
            "linecolor": "white",
            "showbackground": true,
            "ticks": "",
            "zerolinecolor": "white"
           },
           "yaxis": {
            "backgroundcolor": "#E5ECF6",
            "gridcolor": "white",
            "gridwidth": 2,
            "linecolor": "white",
            "showbackground": true,
            "ticks": "",
            "zerolinecolor": "white"
           },
           "zaxis": {
            "backgroundcolor": "#E5ECF6",
            "gridcolor": "white",
            "gridwidth": 2,
            "linecolor": "white",
            "showbackground": true,
            "ticks": "",
            "zerolinecolor": "white"
           }
          },
          "shapedefaults": {
           "line": {
            "color": "#2a3f5f"
           }
          },
          "ternary": {
           "aaxis": {
            "gridcolor": "white",
            "linecolor": "white",
            "ticks": ""
           },
           "baxis": {
            "gridcolor": "white",
            "linecolor": "white",
            "ticks": ""
           },
           "bgcolor": "#E5ECF6",
           "caxis": {
            "gridcolor": "white",
            "linecolor": "white",
            "ticks": ""
           }
          },
          "title": {
           "x": 0.05
          },
          "xaxis": {
           "automargin": true,
           "gridcolor": "white",
           "linecolor": "white",
           "ticks": "",
           "title": {
            "standoff": 15
           },
           "zerolinecolor": "white",
           "zerolinewidth": 2
          },
          "yaxis": {
           "automargin": true,
           "gridcolor": "white",
           "linecolor": "white",
           "ticks": "",
           "title": {
            "standoff": 15
           },
           "zerolinecolor": "white",
           "zerolinewidth": 2
          }
         }
        },
        "title": {
         "text": "Prop speed is 1200.0 RPM"
        }
       }
      }
     },
     "metadata": {},
     "output_type": "display_data"
    }
   ],
   "source": [
    "rpms = np.unique(lf_data_df.propspeed.to_numpy())\n",
    "rpm = rpms[-1]\n",
    "plot_trend_df = lf_data_df[lf_data_df.propspeed == rpm]\n",
    "\n",
    "fig = go.Figure(\n",
    "    data=[\n",
    "        go.Scatter3d(\n",
    "            x=plot_trend_df.discangle,\n",
    "            y=plot_trend_df.airspeed,\n",
    "            z=plot_trend_df.load,\n",
    "            mode=\"markers\",\n",
    "            marker=dict(\n",
    "                color=\"LightSkyBlue\", size=4),\n",
    "        )\n",
    "    ]\n",
    ")\n",
    "\n",
    "fig.update_layout(\n",
    "    scene=dict(\n",
    "        xaxis_title=\"disc angle [deg]\",\n",
    "        yaxis_title=\"airspeed [m/s]\",\n",
    "        zaxis_title=\"thrust [N]\",\n",
    "    ),\n",
    "    title=f\"Prop speed is {rpm} RPM\",\n",
    ")\n"
   ]
  },
  {
   "cell_type": "markdown",
   "metadata": {},
   "source": [
    "**Now we can build the Kirging surrogate model, from the DataFrame**"
   ]
  },
  {
   "cell_type": "code",
   "execution_count": 6,
   "metadata": {},
   "outputs": [],
   "source": [
    "# we have yet to explore theta0, using default from docs\n",
    "krg_sm = KRG(theta0=[1e-2])"
   ]
  },
  {
   "cell_type": "markdown",
   "metadata": {},
   "source": [
    "**Lets now write a function which can split the data using train-test split from sklearn**\n",
    "\n",
    "We probably wouldn't use this for the low-fidelity data, but it might come in useful later anyway. \n",
    "\n",
    "*Note:* that the purpose here is to give some understanding before the *proper* code is written. This is just a first looksee at what we could do."
   ]
  },
  {
   "cell_type": "code",
   "execution_count": 7,
   "metadata": {},
   "outputs": [],
   "source": [
    "def prep_data(\n",
    "    df: pd.DataFrame, headers: list[str]\n",
    ") -> np.ndarray:\n",
    "    \"\"\" Prepare the data for surrogate model\n",
    "    Prepares an np.ndarray[nt, nx] for the Kirger, where nx is in\n",
    "    the order of the specified headers\n",
    "    \"\"\"\n",
    "    return np.asarray([df[h].to_numpy() for h in headers]).T\n"
   ]
  },
  {
   "cell_type": "markdown",
   "metadata": {},
   "source": [
    "**Now let us make the Kirging, without any thought to validation**"
   ]
  },
  {
   "cell_type": "code",
   "execution_count": 8,
   "metadata": {},
   "outputs": [],
   "source": [
    "lf_x_data = prep_data(lf_data_df, [\"discangle\", \"airspeed\", \"propspeed\"])\n",
    "lf_y_data = prep_data(lf_data_df, [\"load\"])\n",
    "krg_sm.set_training_values(lf_x_data, lf_y_data)"
   ]
  },
  {
   "cell_type": "markdown",
   "metadata": {},
   "source": [
    "**Now we train the model**"
   ]
  },
  {
   "cell_type": "code",
   "execution_count": 9,
   "metadata": {},
   "outputs": [
    {
     "name": "stdout",
     "output_type": "stream",
     "text": [
      "___________________________________________________________________________\n",
      "   \n",
      "                                  Kriging\n",
      "___________________________________________________________________________\n",
      "   \n",
      " Problem size\n",
      "   \n",
      "      # training points.        : 216\n",
      "   \n",
      "___________________________________________________________________________\n",
      "   \n",
      " Training\n",
      "   \n",
      "   Training ...\n",
      "   Training - done. Time (sec):  0.5306561\n"
     ]
    }
   ],
   "source": [
    "krg_sm.train()"
   ]
  },
  {
   "cell_type": "markdown",
   "metadata": {},
   "source": [
    "**Now let us make some points for interpolation**"
   ]
  },
  {
   "cell_type": "code",
   "execution_count": 10,
   "metadata": {},
   "outputs": [
    {
     "name": "stdout",
     "output_type": "stream",
     "text": [
      "Shape of the data to interpolate is (462, 3)\n",
      "___________________________________________________________________________\n",
      "   \n",
      " Evaluation\n",
      "   \n",
      "      # eval points. : 462\n",
      "   \n",
      "   Predicting ...\n",
      "   Predicting - done. Time (sec):  0.0031981\n",
      "   \n",
      "   Prediction time/pt. (sec) :  0.0000069\n",
      "   \n"
     ]
    }
   ],
   "source": [
    "# I like to use non-equal dimensions, it helps to make sure plotting is correct!\n",
    "#n_propspeed = 20\n",
    "n_discangle = 22\n",
    "n_airspeed = 21\n",
    "# we use `*_vec_i` to hint that it's a 1D vector or interp points\n",
    "discangle_vec_i = np.linspace(-90, 90, n_discangle)\n",
    "airspeed_vec_i = np.linspace(0, 60, n_airspeed)\n",
    "plot_rpm = rpms[-1]\n",
    "propspeed_vec_i = np.asarray(plot_rpm)\n",
    "# and now we mesh grid, so that we can make a surface\n",
    "# note that we use `*_mat_i` to show that it's not longer a vector\n",
    "[discangle_mat_i, airspeed_mat_i, propspeed_mat_i] = np.meshgrid(\n",
    "    discangle_vec_i, airspeed_vec_i, propspeed_vec_i\n",
    ")\n",
    "\n",
    "# data to interpolate\n",
    "x_data_interp = np.asarray(\n",
    "    [\n",
    "        discangle_mat_i.flatten(),\n",
    "        airspeed_mat_i.flatten(),\n",
    "        propspeed_mat_i.flatten(),\n",
    "    ]\n",
    ").T\n",
    "print(f\"Shape of the data to interpolate is {x_data_interp.shape}\")\n",
    "\n",
    "y_data_interp = krg_sm.predict_values(x_data_interp)\n"
   ]
  },
  {
   "cell_type": "markdown",
   "metadata": {},
   "source": [
    "**Now we can finally plot the data**\n",
    "\n",
    "*Note:* that we first need to reshape the data"
   ]
  },
  {
   "cell_type": "code",
   "execution_count": 11,
   "metadata": {},
   "outputs": [
    {
     "name": "stdout",
     "output_type": "stream",
     "text": [
      "(21, 22)\n",
      "(21, 22)\n",
      "(21, 22)\n"
     ]
    }
   ],
   "source": [
    "y_data_interp_plt = y_data_interp.reshape(n_airspeed, n_discangle)\n",
    "\n",
    "print(y_data_interp_plt.shape)\n",
    "print(airspeed_mat_i[:, :, 0].shape)\n",
    "print(discangle_mat_i[:, :, 0].shape)\n"
   ]
  },
  {
   "cell_type": "code",
   "execution_count": 12,
   "metadata": {},
   "outputs": [
    {
     "data": {
      "application/vnd.plotly.v1+json": {
       "config": {
        "plotlyServerURL": "https://plot.ly"
       },
       "data": [
        {
         "type": "surface",
         "x": [
          [
           -90,
           -81.42857142857143,
           -72.85714285714286,
           -64.28571428571428,
           -55.714285714285715,
           -47.142857142857146,
           -38.57142857142857,
           -30,
           -21.42857142857143,
           -12.857142857142861,
           -4.285714285714292,
           4.285714285714278,
           12.857142857142861,
           21.42857142857143,
           30,
           38.571428571428555,
           47.14285714285714,
           55.71428571428572,
           64.28571428571428,
           72.85714285714286,
           81.42857142857142,
           90
          ],
          [
           -90,
           -81.42857142857143,
           -72.85714285714286,
           -64.28571428571428,
           -55.714285714285715,
           -47.142857142857146,
           -38.57142857142857,
           -30,
           -21.42857142857143,
           -12.857142857142861,
           -4.285714285714292,
           4.285714285714278,
           12.857142857142861,
           21.42857142857143,
           30,
           38.571428571428555,
           47.14285714285714,
           55.71428571428572,
           64.28571428571428,
           72.85714285714286,
           81.42857142857142,
           90
          ],
          [
           -90,
           -81.42857142857143,
           -72.85714285714286,
           -64.28571428571428,
           -55.714285714285715,
           -47.142857142857146,
           -38.57142857142857,
           -30,
           -21.42857142857143,
           -12.857142857142861,
           -4.285714285714292,
           4.285714285714278,
           12.857142857142861,
           21.42857142857143,
           30,
           38.571428571428555,
           47.14285714285714,
           55.71428571428572,
           64.28571428571428,
           72.85714285714286,
           81.42857142857142,
           90
          ],
          [
           -90,
           -81.42857142857143,
           -72.85714285714286,
           -64.28571428571428,
           -55.714285714285715,
           -47.142857142857146,
           -38.57142857142857,
           -30,
           -21.42857142857143,
           -12.857142857142861,
           -4.285714285714292,
           4.285714285714278,
           12.857142857142861,
           21.42857142857143,
           30,
           38.571428571428555,
           47.14285714285714,
           55.71428571428572,
           64.28571428571428,
           72.85714285714286,
           81.42857142857142,
           90
          ],
          [
           -90,
           -81.42857142857143,
           -72.85714285714286,
           -64.28571428571428,
           -55.714285714285715,
           -47.142857142857146,
           -38.57142857142857,
           -30,
           -21.42857142857143,
           -12.857142857142861,
           -4.285714285714292,
           4.285714285714278,
           12.857142857142861,
           21.42857142857143,
           30,
           38.571428571428555,
           47.14285714285714,
           55.71428571428572,
           64.28571428571428,
           72.85714285714286,
           81.42857142857142,
           90
          ],
          [
           -90,
           -81.42857142857143,
           -72.85714285714286,
           -64.28571428571428,
           -55.714285714285715,
           -47.142857142857146,
           -38.57142857142857,
           -30,
           -21.42857142857143,
           -12.857142857142861,
           -4.285714285714292,
           4.285714285714278,
           12.857142857142861,
           21.42857142857143,
           30,
           38.571428571428555,
           47.14285714285714,
           55.71428571428572,
           64.28571428571428,
           72.85714285714286,
           81.42857142857142,
           90
          ],
          [
           -90,
           -81.42857142857143,
           -72.85714285714286,
           -64.28571428571428,
           -55.714285714285715,
           -47.142857142857146,
           -38.57142857142857,
           -30,
           -21.42857142857143,
           -12.857142857142861,
           -4.285714285714292,
           4.285714285714278,
           12.857142857142861,
           21.42857142857143,
           30,
           38.571428571428555,
           47.14285714285714,
           55.71428571428572,
           64.28571428571428,
           72.85714285714286,
           81.42857142857142,
           90
          ],
          [
           -90,
           -81.42857142857143,
           -72.85714285714286,
           -64.28571428571428,
           -55.714285714285715,
           -47.142857142857146,
           -38.57142857142857,
           -30,
           -21.42857142857143,
           -12.857142857142861,
           -4.285714285714292,
           4.285714285714278,
           12.857142857142861,
           21.42857142857143,
           30,
           38.571428571428555,
           47.14285714285714,
           55.71428571428572,
           64.28571428571428,
           72.85714285714286,
           81.42857142857142,
           90
          ],
          [
           -90,
           -81.42857142857143,
           -72.85714285714286,
           -64.28571428571428,
           -55.714285714285715,
           -47.142857142857146,
           -38.57142857142857,
           -30,
           -21.42857142857143,
           -12.857142857142861,
           -4.285714285714292,
           4.285714285714278,
           12.857142857142861,
           21.42857142857143,
           30,
           38.571428571428555,
           47.14285714285714,
           55.71428571428572,
           64.28571428571428,
           72.85714285714286,
           81.42857142857142,
           90
          ],
          [
           -90,
           -81.42857142857143,
           -72.85714285714286,
           -64.28571428571428,
           -55.714285714285715,
           -47.142857142857146,
           -38.57142857142857,
           -30,
           -21.42857142857143,
           -12.857142857142861,
           -4.285714285714292,
           4.285714285714278,
           12.857142857142861,
           21.42857142857143,
           30,
           38.571428571428555,
           47.14285714285714,
           55.71428571428572,
           64.28571428571428,
           72.85714285714286,
           81.42857142857142,
           90
          ],
          [
           -90,
           -81.42857142857143,
           -72.85714285714286,
           -64.28571428571428,
           -55.714285714285715,
           -47.142857142857146,
           -38.57142857142857,
           -30,
           -21.42857142857143,
           -12.857142857142861,
           -4.285714285714292,
           4.285714285714278,
           12.857142857142861,
           21.42857142857143,
           30,
           38.571428571428555,
           47.14285714285714,
           55.71428571428572,
           64.28571428571428,
           72.85714285714286,
           81.42857142857142,
           90
          ],
          [
           -90,
           -81.42857142857143,
           -72.85714285714286,
           -64.28571428571428,
           -55.714285714285715,
           -47.142857142857146,
           -38.57142857142857,
           -30,
           -21.42857142857143,
           -12.857142857142861,
           -4.285714285714292,
           4.285714285714278,
           12.857142857142861,
           21.42857142857143,
           30,
           38.571428571428555,
           47.14285714285714,
           55.71428571428572,
           64.28571428571428,
           72.85714285714286,
           81.42857142857142,
           90
          ],
          [
           -90,
           -81.42857142857143,
           -72.85714285714286,
           -64.28571428571428,
           -55.714285714285715,
           -47.142857142857146,
           -38.57142857142857,
           -30,
           -21.42857142857143,
           -12.857142857142861,
           -4.285714285714292,
           4.285714285714278,
           12.857142857142861,
           21.42857142857143,
           30,
           38.571428571428555,
           47.14285714285714,
           55.71428571428572,
           64.28571428571428,
           72.85714285714286,
           81.42857142857142,
           90
          ],
          [
           -90,
           -81.42857142857143,
           -72.85714285714286,
           -64.28571428571428,
           -55.714285714285715,
           -47.142857142857146,
           -38.57142857142857,
           -30,
           -21.42857142857143,
           -12.857142857142861,
           -4.285714285714292,
           4.285714285714278,
           12.857142857142861,
           21.42857142857143,
           30,
           38.571428571428555,
           47.14285714285714,
           55.71428571428572,
           64.28571428571428,
           72.85714285714286,
           81.42857142857142,
           90
          ],
          [
           -90,
           -81.42857142857143,
           -72.85714285714286,
           -64.28571428571428,
           -55.714285714285715,
           -47.142857142857146,
           -38.57142857142857,
           -30,
           -21.42857142857143,
           -12.857142857142861,
           -4.285714285714292,
           4.285714285714278,
           12.857142857142861,
           21.42857142857143,
           30,
           38.571428571428555,
           47.14285714285714,
           55.71428571428572,
           64.28571428571428,
           72.85714285714286,
           81.42857142857142,
           90
          ],
          [
           -90,
           -81.42857142857143,
           -72.85714285714286,
           -64.28571428571428,
           -55.714285714285715,
           -47.142857142857146,
           -38.57142857142857,
           -30,
           -21.42857142857143,
           -12.857142857142861,
           -4.285714285714292,
           4.285714285714278,
           12.857142857142861,
           21.42857142857143,
           30,
           38.571428571428555,
           47.14285714285714,
           55.71428571428572,
           64.28571428571428,
           72.85714285714286,
           81.42857142857142,
           90
          ],
          [
           -90,
           -81.42857142857143,
           -72.85714285714286,
           -64.28571428571428,
           -55.714285714285715,
           -47.142857142857146,
           -38.57142857142857,
           -30,
           -21.42857142857143,
           -12.857142857142861,
           -4.285714285714292,
           4.285714285714278,
           12.857142857142861,
           21.42857142857143,
           30,
           38.571428571428555,
           47.14285714285714,
           55.71428571428572,
           64.28571428571428,
           72.85714285714286,
           81.42857142857142,
           90
          ],
          [
           -90,
           -81.42857142857143,
           -72.85714285714286,
           -64.28571428571428,
           -55.714285714285715,
           -47.142857142857146,
           -38.57142857142857,
           -30,
           -21.42857142857143,
           -12.857142857142861,
           -4.285714285714292,
           4.285714285714278,
           12.857142857142861,
           21.42857142857143,
           30,
           38.571428571428555,
           47.14285714285714,
           55.71428571428572,
           64.28571428571428,
           72.85714285714286,
           81.42857142857142,
           90
          ],
          [
           -90,
           -81.42857142857143,
           -72.85714285714286,
           -64.28571428571428,
           -55.714285714285715,
           -47.142857142857146,
           -38.57142857142857,
           -30,
           -21.42857142857143,
           -12.857142857142861,
           -4.285714285714292,
           4.285714285714278,
           12.857142857142861,
           21.42857142857143,
           30,
           38.571428571428555,
           47.14285714285714,
           55.71428571428572,
           64.28571428571428,
           72.85714285714286,
           81.42857142857142,
           90
          ],
          [
           -90,
           -81.42857142857143,
           -72.85714285714286,
           -64.28571428571428,
           -55.714285714285715,
           -47.142857142857146,
           -38.57142857142857,
           -30,
           -21.42857142857143,
           -12.857142857142861,
           -4.285714285714292,
           4.285714285714278,
           12.857142857142861,
           21.42857142857143,
           30,
           38.571428571428555,
           47.14285714285714,
           55.71428571428572,
           64.28571428571428,
           72.85714285714286,
           81.42857142857142,
           90
          ],
          [
           -90,
           -81.42857142857143,
           -72.85714285714286,
           -64.28571428571428,
           -55.714285714285715,
           -47.142857142857146,
           -38.57142857142857,
           -30,
           -21.42857142857143,
           -12.857142857142861,
           -4.285714285714292,
           4.285714285714278,
           12.857142857142861,
           21.42857142857143,
           30,
           38.571428571428555,
           47.14285714285714,
           55.71428571428572,
           64.28571428571428,
           72.85714285714286,
           81.42857142857142,
           90
          ]
         ],
         "y": [
          [
           0,
           0,
           0,
           0,
           0,
           0,
           0,
           0,
           0,
           0,
           0,
           0,
           0,
           0,
           0,
           0,
           0,
           0,
           0,
           0,
           0,
           0
          ],
          [
           3,
           3,
           3,
           3,
           3,
           3,
           3,
           3,
           3,
           3,
           3,
           3,
           3,
           3,
           3,
           3,
           3,
           3,
           3,
           3,
           3,
           3
          ],
          [
           6,
           6,
           6,
           6,
           6,
           6,
           6,
           6,
           6,
           6,
           6,
           6,
           6,
           6,
           6,
           6,
           6,
           6,
           6,
           6,
           6,
           6
          ],
          [
           9,
           9,
           9,
           9,
           9,
           9,
           9,
           9,
           9,
           9,
           9,
           9,
           9,
           9,
           9,
           9,
           9,
           9,
           9,
           9,
           9,
           9
          ],
          [
           12,
           12,
           12,
           12,
           12,
           12,
           12,
           12,
           12,
           12,
           12,
           12,
           12,
           12,
           12,
           12,
           12,
           12,
           12,
           12,
           12,
           12
          ],
          [
           15,
           15,
           15,
           15,
           15,
           15,
           15,
           15,
           15,
           15,
           15,
           15,
           15,
           15,
           15,
           15,
           15,
           15,
           15,
           15,
           15,
           15
          ],
          [
           18,
           18,
           18,
           18,
           18,
           18,
           18,
           18,
           18,
           18,
           18,
           18,
           18,
           18,
           18,
           18,
           18,
           18,
           18,
           18,
           18,
           18
          ],
          [
           21,
           21,
           21,
           21,
           21,
           21,
           21,
           21,
           21,
           21,
           21,
           21,
           21,
           21,
           21,
           21,
           21,
           21,
           21,
           21,
           21,
           21
          ],
          [
           24,
           24,
           24,
           24,
           24,
           24,
           24,
           24,
           24,
           24,
           24,
           24,
           24,
           24,
           24,
           24,
           24,
           24,
           24,
           24,
           24,
           24
          ],
          [
           27,
           27,
           27,
           27,
           27,
           27,
           27,
           27,
           27,
           27,
           27,
           27,
           27,
           27,
           27,
           27,
           27,
           27,
           27,
           27,
           27,
           27
          ],
          [
           30,
           30,
           30,
           30,
           30,
           30,
           30,
           30,
           30,
           30,
           30,
           30,
           30,
           30,
           30,
           30,
           30,
           30,
           30,
           30,
           30,
           30
          ],
          [
           33,
           33,
           33,
           33,
           33,
           33,
           33,
           33,
           33,
           33,
           33,
           33,
           33,
           33,
           33,
           33,
           33,
           33,
           33,
           33,
           33,
           33
          ],
          [
           36,
           36,
           36,
           36,
           36,
           36,
           36,
           36,
           36,
           36,
           36,
           36,
           36,
           36,
           36,
           36,
           36,
           36,
           36,
           36,
           36,
           36
          ],
          [
           39,
           39,
           39,
           39,
           39,
           39,
           39,
           39,
           39,
           39,
           39,
           39,
           39,
           39,
           39,
           39,
           39,
           39,
           39,
           39,
           39,
           39
          ],
          [
           42,
           42,
           42,
           42,
           42,
           42,
           42,
           42,
           42,
           42,
           42,
           42,
           42,
           42,
           42,
           42,
           42,
           42,
           42,
           42,
           42,
           42
          ],
          [
           45,
           45,
           45,
           45,
           45,
           45,
           45,
           45,
           45,
           45,
           45,
           45,
           45,
           45,
           45,
           45,
           45,
           45,
           45,
           45,
           45,
           45
          ],
          [
           48,
           48,
           48,
           48,
           48,
           48,
           48,
           48,
           48,
           48,
           48,
           48,
           48,
           48,
           48,
           48,
           48,
           48,
           48,
           48,
           48,
           48
          ],
          [
           51,
           51,
           51,
           51,
           51,
           51,
           51,
           51,
           51,
           51,
           51,
           51,
           51,
           51,
           51,
           51,
           51,
           51,
           51,
           51,
           51,
           51
          ],
          [
           54,
           54,
           54,
           54,
           54,
           54,
           54,
           54,
           54,
           54,
           54,
           54,
           54,
           54,
           54,
           54,
           54,
           54,
           54,
           54,
           54,
           54
          ],
          [
           57,
           57,
           57,
           57,
           57,
           57,
           57,
           57,
           57,
           57,
           57,
           57,
           57,
           57,
           57,
           57,
           57,
           57,
           57,
           57,
           57,
           57
          ],
          [
           60,
           60,
           60,
           60,
           60,
           60,
           60,
           60,
           60,
           60,
           60,
           60,
           60,
           60,
           60,
           60,
           60,
           60,
           60,
           60,
           60,
           60
          ]
         ],
         "z": [
          [
           5759.997818899195,
           5675.615745104846,
           5673.819502418893,
           5710.0269761657055,
           5752.587657590411,
           5782.77476302751,
           5793.353102392746,
           5786.004310962428,
           5768.039871975729,
           5748.890290090144,
           5736.900862713365,
           5736.900862713365,
           5748.889787058353,
           5768.039201266674,
           5786.004143285164,
           5793.3537731018005,
           5782.7771105092,
           5752.592184876528,
           5710.032928708562,
           5673.826712541226,
           5675.622116840861,
           5760.0008370899395
          ],
          [
           5183.998835639227,
           5106.370550505431,
           5123.705529044702,
           5191.221701444607,
           5276.695018870247,
           5360.487287890001,
           5434.161743148905,
           5497.967301544721,
           5557.595348596046,
           5620.72516761969,
           5693.860959669386,
           5779.940933434608,
           5877.055412560598,
           5978.484227678148,
           6074.040985025607,
           6152.5441262820605,
           6205.064501808076,
           6228.484236726272,
           6228.838203429659,
           6223.940937431312,
           6244.867311440277,
           6335.999736511277
          ],
          [
           4607.999852379258,
           4537.124685196962,
           4573.59004657514,
           4672.415756014455,
           4800.802463988713,
           4938.199812752493,
           5074.971389968645,
           5209.930795158803,
           5347.150825216364,
           5492.559877471972,
           5650.821391979935,
           5822.980668801323,
           6005.220702708316,
           6188.929589444149,
           6362.078497475106,
           6511.73489865548,
           6627.352396138744,
           6704.377210800964,
           6747.644232698443,
           6774.056336062242,
           6814.112841394219,
           6911.998719771245
          ],
          [
           4032.000449926131,
           3967.8777299862795,
           4023.474144912418,
           4153.6093913911445,
           4324.909070720861,
           4515.9114153900355,
           4715.780869111121,
           4921.893618063833,
           5136.705966482154,
           5364.3939166151995,
           5607.781488935956,
           5866.020739522566,
           6133.386328210561,
           6399.374280501095,
           6650.115171538286,
           6870.925503351635,
           7049.640458146674,
           7180.270184875657,
           7266.4508488376505,
           7324.1720700477,
           7383.359545089006,
           7487.998206063005
          ],
          [
           3456.0009636343716,
           3398.6306070983337,
           3473.357656379274,
           3634.8016853497247,
           3849.0150905825863,
           4093.623269543473,
           4356.590180576333,
           4633.85677632339,
           4926.261610779734,
           5236.228626467482,
           5564.741585891977,
           5909.061145598336,
           6261.551953712806,
           6609.818803880778,
           6938.152180955993,
           7230.116443402318,
           7471.929190863659,
           7656.164165013931,
           7785.257968008647,
           7874.288642419476,
           7952.6068356542155,
           8063.998279225187
          ],
          [
           2880.0012258267166,
           2829.3837357262832,
           2923.240497137076,
           3115.9942308242003,
           3373.1210266056805,
           3671.334788342383,
           3997.399156687019,
           4345.819599228418,
           4715.816249013734,
           5108.063336319765,
           5521.701850525262,
           5952.100545610524,
           6389.716740828733,
           6820.263494937724,
           7226.1891903737005,
           7589.307215775737,
           7894.217169032958,
           8132.058228990837,
           8304.065506372805,
           8424.405717823043,
           8521.854713089848,
           8639.998436226
          ],
          [
           2304.0009849872713,
           2260.1360259679145,
           2373.123254056246,
           2597.1859379123584,
           2897.2262080810883,
           3249.046055625398,
           3638.2079651204413,
           4057.782757487975,
           4505.372060988578,
           4979.898381526574,
           5478.661779804019,
           5995.140448654503,
           6517.882198653714,
           7030.707850640144,
           7514.226032114144,
           7948.498155826419,
           8316.505566395415,
           8607.95254448364,
           8822.873128575591,
           8974.5232962584,
           9091.102422848217,
           9215.998760904076
          ],
          [
           1728.001163340985,
           1690.8877293391238,
           1823.0055079436254,
           2078.378399548202,
           2421.331808749655,
           2826.757239069781,
           3279.017276585654,
           3769.7454127157403,
           4294.927537608895,
           4851.732756024328,
           5435.622547469095,
           6038.180184021218,
           6646.047488801432,
           7241.152206342563,
           7802.262873854588,
           8307.689179715733,
           8738.79421527377,
           9083.847027653705,
           9341.681086132907,
           9524.640790855125,
           9660.35046796111,
           9791.99933709805
          ],
          [
           1152.0008386629077,
           1121.6394327103328,
           1272.8878456696366,
           1559.5701066363602,
           1945.4375770954855,
           2404.468422514164,
           2919.825917341813,
           3481.7089063298235,
           4084.483014229212,
           4723.567633553875,
           5392.582309070588,
           6081.220087065198,
           6774.212946626413,
           7451.597232754037,
           8090.299547917768,
           8666.879868250522,
           9161.08269647486,
           9559.741343146505,
           9860.489714399275,
           10074.758956160906,
           10229.599016105798,
           10367.999913292024
          ],
          [
           576.0009331779893,
           552.3913875974372,
           722.770015718384,
           1040.7619814017817,
           1469.5425070549982,
           1982.1795221199156,
           2560.6348934524985,
           3193.671729234853,
           3874.0381554950022,
           4595.402678760684,
           5349.542406026609,
           6124.2594870773855,
           6902.377901419604,
           7662.041588456456,
           8378.336725012738,
           9026.070975978466,
           9583.37168070774,
           10035.635993993834,
           10379.298007311118,
           10624.876702273526,
           10798.84731273459,
           10943.999986454204
          ],
          [
           0.00018930675332740066,
           -16.857076708617114,
           172.6517665739725,
           521.9532692967805,
           993.6479400463013,
           1559.8909570801943,
           2201.4437018859203,
           2905.635055171673,
           3663.5939674698466,
           4467.237220935703,
           5306.503006014421,
           6167.299725475892,
           7030.5428562127945,
           7872.485944158875,
           8666.373566753184,
           9385.261748351886,
           10005.660245747462,
           10511.530812518426,
           10898.106216384327,
           11174.994699902041,
           11368.09569320201,
           11520.000562648176
          ],
          [
           -576.0001353713237,
           -586.1050379828812,
           -377.4661472159114,
           3.14472486904333,
           517.7533730376049,
           1137.6017213314185,
           1842.252677996606,
           2617.5980457539654,
           3453.1492764129,
           4339.072098465249,
           5263.462935293178,
           6210.33912548808,
           7158.70848171504,
           8082.930635215822,
           8954.410240816364,
           9744.452856079832,
           10427.949481496236,
           10987.425463365755,
           11416.914676973433,
           11725.11278136919,
           11937.343905992171,
           12096.000803487623
          ],
          [
           -1152.0003762107694,
           -1155.3539214820944,
           -927.583977167164,
           -515.6635680427989,
           41.85855451301268,
           715.3133239689605,
           1483.0621571390823,
           2329.5610363362584,
           3242.7050883877446,
           4210.906808317531,
           5220.42353528099,
           6253.379196209323,
           7286.873101153703,
           8293.37499091824,
           9242.447417911335,
           10103.643879969146,
           10850.23813037459,
           11463.320365728978,
           11935.723221401171,
           12275.230862836337,
           12506.59211878233,
           12672.001128165699
          ],
          [
           -1728.000700888846,
           -1724.602050433622,
           -1477.7017232797843,
           -1034.4716094387454,
           -434.0358448184206,
           293.02425589744826,
           1123.8709655725042,
           2041.5245299503417,
           3032.260229653534,
           4082.741518169813,
           5177.383632237011,
           6296.418763898775,
           7415.038223624158,
           8503.819849652451,
           9530.484091974515,
           10462.835071535725,
           11272.526946930207,
           11939.214765060411,
           12454.531681990276,
           12825.348525110327,
           13075.840415411121,
           13248.001201327881
          ],
          [
           -2304.0015285987147,
           -2293.850430901045,
           -2027.8196370696687,
           -1553.2799023505877,
           -909.9306633430124,
           -129.26372227185038,
           764.6794386513993,
           1753.4875205326343,
           2821.8160416283786,
           3954.5765633766223,
           5134.344064547558,
           6339.459169974544,
           7543.2036814491385,
           8714.263870000343,
           9818.52110139222,
           10822.026011586408,
           11694.81559580856,
           12415.109332069107,
           12973.339639547592,
           13375.466019707052,
           13645.088460524015,
           13824.001442167326
          ],
          [
           -2880.0021047926866,
           -2863.09847601394,
           -2577.937299343658,
           -2072.087776069271,
           -1385.8246434812872,
           -551.5527065047308,
           405.48908547113933,
           1465.4506787921905,
           2611.371853603223,
           3826.4112732289045,
           5091.303658471789,
           6382.498234632205,
           7671.369474628647,
           8924.708728734553,
           10106.558278487191,
           11181.216867798457,
           12117.103993171018,
           12891.003396046013,
           13492.14734558901,
           13925.583346626512,
           14214.336254121015,
           14400.001179974981
          ],
          [
           -3456.0018426003417,
           -3432.3458504177815,
           -3128.0542070699603,
           -2590.8953144334264,
           -1861.7184559422976,
           -973.8412715444524,
           46.298396936351764,
           1177.4135016972198,
           2400.926659514486,
           3698.246318435714,
           5048.26375542781,
           6425.538640707975,
           7799.534764776365,
           9135.153252114236,
           10394.594617195846,
           11540.407975526405,
           12539.392725888003,
           13366.897795377447,
           14010.95505163043,
           14475.70000283692,
           14783.583628524857,
           14976.001001621267
          ],
          [
           -4032.0021672784187,
           -4001.5935601761503,
           -3678.1708632803684,
           -3109.702098249897,
           -2337.612603757835,
           -1396.1293335523833,
           -312.8924592756989,
           889.3768276340395,
           2190.4823038120667,
           3570.080692933469,
           5005.224355415622,
           6468.5785437519535,
           7927.699719569556,
           9345.59777549392,
           10682.631794290815,
           11899.598831738454,
           12961.68112325046,
           13842.791607838457,
           14529.7618354469,
           15025.816407531433,
           15352.830835251436,
           15552.000320235764
          ],
          [
           -4608.001569731547,
           -4570.840096193673,
           -4228.2865972658265,
           -3628.508882066367,
           -2813.5061647029506,
           -1818.4172278830501,
           -672.083147810486,
           601.3399858935959,
           1980.037780432384,
           3441.915067431224,
           4962.18428469438,
           6511.618446795933,
           8055.865177394537,
           9556.042801905392,
           10970.669306740314,
           12258.78943643461,
           13383.969017581128,
           14318.684749590413,
           15048.568367747475,
           15575.93306374184,
           15922.077287430327,
           16127.999974204786
          ],
          [
           -5184.000469152883,
           -5140.085793824879,
           -4778.401912058125,
           -4147.314911335151,
           -3289.398132714062,
           -2240.7049545364544,
           -1031.2738363452736,
           313.3024734440978,
           1769.592083311856,
           3313.749106574452,
           4919.1440462958735,
           6554.658014485385,
           8184.030467542255,
           9766.487325285074,
           11258.705645448967,
           12617.979873453502,
           13806.2566603959,
           14794.577723665107,
           15567.374648532154,
           16126.047875502349,
           16491.32340425469,
           16703.998957464755
          ],
          [
           -5759.9988655424295,
           -5709.330904585662,
           -5328.515801593684,
           -4666.119850701722,
           -3765.2905199183324,
           -2662.991926642172,
           -1390.4643572027971,
           25.26546402639042,
           1559.147224577646,
           3185.5836487494707,
           4876.103807897367,
           6597.6975821748365,
           8312.195422335444,
           9976.931848664757,
           11546.742822543938,
           12977.170226633763,
           14228.543967856145,
           15270.46977551485,
           16086.17975557599,
           16676.162435746963,
           17060.568431176842,
           17279.99768920883
          ]
         ]
        },
        {
         "marker": {
          "color": "LightSkyBlue",
          "size": 4
         },
         "mode": "markers",
         "type": "scatter3d",
         "x": [
          -90,
          -90,
          -90,
          -90,
          -90,
          -90,
          -54,
          -54,
          -54,
          -54,
          -54,
          -54,
          -18,
          -18,
          -18,
          -18,
          -18,
          -18,
          18.000000000000014,
          18.000000000000014,
          18.000000000000014,
          18.000000000000014,
          18.000000000000014,
          18.000000000000014,
          54,
          54,
          54,
          54,
          54,
          54,
          90,
          90,
          90,
          90,
          90,
          90
         ],
         "y": [
          0,
          12,
          24,
          36.00000000000001,
          48,
          60,
          0,
          12,
          24,
          36.00000000000001,
          48,
          60,
          0,
          12,
          24,
          36.00000000000001,
          48,
          60,
          0,
          12,
          24,
          36.00000000000001,
          48,
          60,
          0,
          12,
          24,
          36.00000000000001,
          48,
          60,
          0,
          12,
          24,
          36.00000000000001,
          48,
          60
         ],
         "z": [
          5760,
          3456,
          1151.9999999999998,
          -1152.000000000001,
          -3456.0000000000005,
          -5760,
          5760,
          3896.024844960121,
          2032.0496899202424,
          168.0745348803618,
          -1695.9006201595155,
          -3559.875775199396,
          5760,
          5048.024844960121,
          4336.049689920243,
          3624.074534880363,
          2912.0993798404847,
          2200.124224800606,
          5760,
          6471.97515503988,
          7183.950310079759,
          7895.925465119638,
          8607.900620159518,
          9319.875775199398,
          5760,
          7623.97515503988,
          9487.95031007976,
          11351.925465119639,
          13215.900620159517,
          15079.875775199394,
          5760,
          8063.999999999999,
          10368,
          12672.000000000002,
          14976,
          17280
         ]
        }
       ],
       "layout": {
        "autosize": false,
        "height": 500,
        "margin": {
         "b": 65,
         "l": 65,
         "r": 50,
         "t": 90
        },
        "template": {
         "data": {
          "bar": [
           {
            "error_x": {
             "color": "#2a3f5f"
            },
            "error_y": {
             "color": "#2a3f5f"
            },
            "marker": {
             "line": {
              "color": "#E5ECF6",
              "width": 0.5
             },
             "pattern": {
              "fillmode": "overlay",
              "size": 10,
              "solidity": 0.2
             }
            },
            "type": "bar"
           }
          ],
          "barpolar": [
           {
            "marker": {
             "line": {
              "color": "#E5ECF6",
              "width": 0.5
             },
             "pattern": {
              "fillmode": "overlay",
              "size": 10,
              "solidity": 0.2
             }
            },
            "type": "barpolar"
           }
          ],
          "carpet": [
           {
            "aaxis": {
             "endlinecolor": "#2a3f5f",
             "gridcolor": "white",
             "linecolor": "white",
             "minorgridcolor": "white",
             "startlinecolor": "#2a3f5f"
            },
            "baxis": {
             "endlinecolor": "#2a3f5f",
             "gridcolor": "white",
             "linecolor": "white",
             "minorgridcolor": "white",
             "startlinecolor": "#2a3f5f"
            },
            "type": "carpet"
           }
          ],
          "choropleth": [
           {
            "colorbar": {
             "outlinewidth": 0,
             "ticks": ""
            },
            "type": "choropleth"
           }
          ],
          "contour": [
           {
            "colorbar": {
             "outlinewidth": 0,
             "ticks": ""
            },
            "colorscale": [
             [
              0,
              "#0d0887"
             ],
             [
              0.1111111111111111,
              "#46039f"
             ],
             [
              0.2222222222222222,
              "#7201a8"
             ],
             [
              0.3333333333333333,
              "#9c179e"
             ],
             [
              0.4444444444444444,
              "#bd3786"
             ],
             [
              0.5555555555555556,
              "#d8576b"
             ],
             [
              0.6666666666666666,
              "#ed7953"
             ],
             [
              0.7777777777777778,
              "#fb9f3a"
             ],
             [
              0.8888888888888888,
              "#fdca26"
             ],
             [
              1,
              "#f0f921"
             ]
            ],
            "type": "contour"
           }
          ],
          "contourcarpet": [
           {
            "colorbar": {
             "outlinewidth": 0,
             "ticks": ""
            },
            "type": "contourcarpet"
           }
          ],
          "heatmap": [
           {
            "colorbar": {
             "outlinewidth": 0,
             "ticks": ""
            },
            "colorscale": [
             [
              0,
              "#0d0887"
             ],
             [
              0.1111111111111111,
              "#46039f"
             ],
             [
              0.2222222222222222,
              "#7201a8"
             ],
             [
              0.3333333333333333,
              "#9c179e"
             ],
             [
              0.4444444444444444,
              "#bd3786"
             ],
             [
              0.5555555555555556,
              "#d8576b"
             ],
             [
              0.6666666666666666,
              "#ed7953"
             ],
             [
              0.7777777777777778,
              "#fb9f3a"
             ],
             [
              0.8888888888888888,
              "#fdca26"
             ],
             [
              1,
              "#f0f921"
             ]
            ],
            "type": "heatmap"
           }
          ],
          "heatmapgl": [
           {
            "colorbar": {
             "outlinewidth": 0,
             "ticks": ""
            },
            "colorscale": [
             [
              0,
              "#0d0887"
             ],
             [
              0.1111111111111111,
              "#46039f"
             ],
             [
              0.2222222222222222,
              "#7201a8"
             ],
             [
              0.3333333333333333,
              "#9c179e"
             ],
             [
              0.4444444444444444,
              "#bd3786"
             ],
             [
              0.5555555555555556,
              "#d8576b"
             ],
             [
              0.6666666666666666,
              "#ed7953"
             ],
             [
              0.7777777777777778,
              "#fb9f3a"
             ],
             [
              0.8888888888888888,
              "#fdca26"
             ],
             [
              1,
              "#f0f921"
             ]
            ],
            "type": "heatmapgl"
           }
          ],
          "histogram": [
           {
            "marker": {
             "pattern": {
              "fillmode": "overlay",
              "size": 10,
              "solidity": 0.2
             }
            },
            "type": "histogram"
           }
          ],
          "histogram2d": [
           {
            "colorbar": {
             "outlinewidth": 0,
             "ticks": ""
            },
            "colorscale": [
             [
              0,
              "#0d0887"
             ],
             [
              0.1111111111111111,
              "#46039f"
             ],
             [
              0.2222222222222222,
              "#7201a8"
             ],
             [
              0.3333333333333333,
              "#9c179e"
             ],
             [
              0.4444444444444444,
              "#bd3786"
             ],
             [
              0.5555555555555556,
              "#d8576b"
             ],
             [
              0.6666666666666666,
              "#ed7953"
             ],
             [
              0.7777777777777778,
              "#fb9f3a"
             ],
             [
              0.8888888888888888,
              "#fdca26"
             ],
             [
              1,
              "#f0f921"
             ]
            ],
            "type": "histogram2d"
           }
          ],
          "histogram2dcontour": [
           {
            "colorbar": {
             "outlinewidth": 0,
             "ticks": ""
            },
            "colorscale": [
             [
              0,
              "#0d0887"
             ],
             [
              0.1111111111111111,
              "#46039f"
             ],
             [
              0.2222222222222222,
              "#7201a8"
             ],
             [
              0.3333333333333333,
              "#9c179e"
             ],
             [
              0.4444444444444444,
              "#bd3786"
             ],
             [
              0.5555555555555556,
              "#d8576b"
             ],
             [
              0.6666666666666666,
              "#ed7953"
             ],
             [
              0.7777777777777778,
              "#fb9f3a"
             ],
             [
              0.8888888888888888,
              "#fdca26"
             ],
             [
              1,
              "#f0f921"
             ]
            ],
            "type": "histogram2dcontour"
           }
          ],
          "mesh3d": [
           {
            "colorbar": {
             "outlinewidth": 0,
             "ticks": ""
            },
            "type": "mesh3d"
           }
          ],
          "parcoords": [
           {
            "line": {
             "colorbar": {
              "outlinewidth": 0,
              "ticks": ""
             }
            },
            "type": "parcoords"
           }
          ],
          "pie": [
           {
            "automargin": true,
            "type": "pie"
           }
          ],
          "scatter": [
           {
            "fillpattern": {
             "fillmode": "overlay",
             "size": 10,
             "solidity": 0.2
            },
            "type": "scatter"
           }
          ],
          "scatter3d": [
           {
            "line": {
             "colorbar": {
              "outlinewidth": 0,
              "ticks": ""
             }
            },
            "marker": {
             "colorbar": {
              "outlinewidth": 0,
              "ticks": ""
             }
            },
            "type": "scatter3d"
           }
          ],
          "scattercarpet": [
           {
            "marker": {
             "colorbar": {
              "outlinewidth": 0,
              "ticks": ""
             }
            },
            "type": "scattercarpet"
           }
          ],
          "scattergeo": [
           {
            "marker": {
             "colorbar": {
              "outlinewidth": 0,
              "ticks": ""
             }
            },
            "type": "scattergeo"
           }
          ],
          "scattergl": [
           {
            "marker": {
             "colorbar": {
              "outlinewidth": 0,
              "ticks": ""
             }
            },
            "type": "scattergl"
           }
          ],
          "scattermapbox": [
           {
            "marker": {
             "colorbar": {
              "outlinewidth": 0,
              "ticks": ""
             }
            },
            "type": "scattermapbox"
           }
          ],
          "scatterpolar": [
           {
            "marker": {
             "colorbar": {
              "outlinewidth": 0,
              "ticks": ""
             }
            },
            "type": "scatterpolar"
           }
          ],
          "scatterpolargl": [
           {
            "marker": {
             "colorbar": {
              "outlinewidth": 0,
              "ticks": ""
             }
            },
            "type": "scatterpolargl"
           }
          ],
          "scatterternary": [
           {
            "marker": {
             "colorbar": {
              "outlinewidth": 0,
              "ticks": ""
             }
            },
            "type": "scatterternary"
           }
          ],
          "surface": [
           {
            "colorbar": {
             "outlinewidth": 0,
             "ticks": ""
            },
            "colorscale": [
             [
              0,
              "#0d0887"
             ],
             [
              0.1111111111111111,
              "#46039f"
             ],
             [
              0.2222222222222222,
              "#7201a8"
             ],
             [
              0.3333333333333333,
              "#9c179e"
             ],
             [
              0.4444444444444444,
              "#bd3786"
             ],
             [
              0.5555555555555556,
              "#d8576b"
             ],
             [
              0.6666666666666666,
              "#ed7953"
             ],
             [
              0.7777777777777778,
              "#fb9f3a"
             ],
             [
              0.8888888888888888,
              "#fdca26"
             ],
             [
              1,
              "#f0f921"
             ]
            ],
            "type": "surface"
           }
          ],
          "table": [
           {
            "cells": {
             "fill": {
              "color": "#EBF0F8"
             },
             "line": {
              "color": "white"
             }
            },
            "header": {
             "fill": {
              "color": "#C8D4E3"
             },
             "line": {
              "color": "white"
             }
            },
            "type": "table"
           }
          ]
         },
         "layout": {
          "annotationdefaults": {
           "arrowcolor": "#2a3f5f",
           "arrowhead": 0,
           "arrowwidth": 1
          },
          "autotypenumbers": "strict",
          "coloraxis": {
           "colorbar": {
            "outlinewidth": 0,
            "ticks": ""
           }
          },
          "colorscale": {
           "diverging": [
            [
             0,
             "#8e0152"
            ],
            [
             0.1,
             "#c51b7d"
            ],
            [
             0.2,
             "#de77ae"
            ],
            [
             0.3,
             "#f1b6da"
            ],
            [
             0.4,
             "#fde0ef"
            ],
            [
             0.5,
             "#f7f7f7"
            ],
            [
             0.6,
             "#e6f5d0"
            ],
            [
             0.7,
             "#b8e186"
            ],
            [
             0.8,
             "#7fbc41"
            ],
            [
             0.9,
             "#4d9221"
            ],
            [
             1,
             "#276419"
            ]
           ],
           "sequential": [
            [
             0,
             "#0d0887"
            ],
            [
             0.1111111111111111,
             "#46039f"
            ],
            [
             0.2222222222222222,
             "#7201a8"
            ],
            [
             0.3333333333333333,
             "#9c179e"
            ],
            [
             0.4444444444444444,
             "#bd3786"
            ],
            [
             0.5555555555555556,
             "#d8576b"
            ],
            [
             0.6666666666666666,
             "#ed7953"
            ],
            [
             0.7777777777777778,
             "#fb9f3a"
            ],
            [
             0.8888888888888888,
             "#fdca26"
            ],
            [
             1,
             "#f0f921"
            ]
           ],
           "sequentialminus": [
            [
             0,
             "#0d0887"
            ],
            [
             0.1111111111111111,
             "#46039f"
            ],
            [
             0.2222222222222222,
             "#7201a8"
            ],
            [
             0.3333333333333333,
             "#9c179e"
            ],
            [
             0.4444444444444444,
             "#bd3786"
            ],
            [
             0.5555555555555556,
             "#d8576b"
            ],
            [
             0.6666666666666666,
             "#ed7953"
            ],
            [
             0.7777777777777778,
             "#fb9f3a"
            ],
            [
             0.8888888888888888,
             "#fdca26"
            ],
            [
             1,
             "#f0f921"
            ]
           ]
          },
          "colorway": [
           "#636efa",
           "#EF553B",
           "#00cc96",
           "#ab63fa",
           "#FFA15A",
           "#19d3f3",
           "#FF6692",
           "#B6E880",
           "#FF97FF",
           "#FECB52"
          ],
          "font": {
           "color": "#2a3f5f"
          },
          "geo": {
           "bgcolor": "white",
           "lakecolor": "white",
           "landcolor": "#E5ECF6",
           "showlakes": true,
           "showland": true,
           "subunitcolor": "white"
          },
          "hoverlabel": {
           "align": "left"
          },
          "hovermode": "closest",
          "mapbox": {
           "style": "light"
          },
          "paper_bgcolor": "white",
          "plot_bgcolor": "#E5ECF6",
          "polar": {
           "angularaxis": {
            "gridcolor": "white",
            "linecolor": "white",
            "ticks": ""
           },
           "bgcolor": "#E5ECF6",
           "radialaxis": {
            "gridcolor": "white",
            "linecolor": "white",
            "ticks": ""
           }
          },
          "scene": {
           "xaxis": {
            "backgroundcolor": "#E5ECF6",
            "gridcolor": "white",
            "gridwidth": 2,
            "linecolor": "white",
            "showbackground": true,
            "ticks": "",
            "zerolinecolor": "white"
           },
           "yaxis": {
            "backgroundcolor": "#E5ECF6",
            "gridcolor": "white",
            "gridwidth": 2,
            "linecolor": "white",
            "showbackground": true,
            "ticks": "",
            "zerolinecolor": "white"
           },
           "zaxis": {
            "backgroundcolor": "#E5ECF6",
            "gridcolor": "white",
            "gridwidth": 2,
            "linecolor": "white",
            "showbackground": true,
            "ticks": "",
            "zerolinecolor": "white"
           }
          },
          "shapedefaults": {
           "line": {
            "color": "#2a3f5f"
           }
          },
          "ternary": {
           "aaxis": {
            "gridcolor": "white",
            "linecolor": "white",
            "ticks": ""
           },
           "baxis": {
            "gridcolor": "white",
            "linecolor": "white",
            "ticks": ""
           },
           "bgcolor": "#E5ECF6",
           "caxis": {
            "gridcolor": "white",
            "linecolor": "white",
            "ticks": ""
           }
          },
          "title": {
           "x": 0.05
          },
          "xaxis": {
           "automargin": true,
           "gridcolor": "white",
           "linecolor": "white",
           "ticks": "",
           "title": {
            "standoff": 15
           },
           "zerolinecolor": "white",
           "zerolinewidth": 2
          },
          "yaxis": {
           "automargin": true,
           "gridcolor": "white",
           "linecolor": "white",
           "ticks": "",
           "title": {
            "standoff": 15
           },
           "zerolinecolor": "white",
           "zerolinewidth": 2
          }
         }
        },
        "title": {
         "text": "Interp at prop speed = 1200.0 RPM"
        },
        "width": 500
       }
      }
     },
     "metadata": {},
     "output_type": "display_data"
    }
   ],
   "source": [
    "fig = go.Figure(\n",
    "    data=[\n",
    "        go.Surface(\n",
    "            z=y_data_interp_plt, y=airspeed_mat_i[:, :, 0], x=discangle_mat_i[:, :, 0]\n",
    "        ),\n",
    "        go.Scatter3d(\n",
    "            x=plot_trend_df.discangle,\n",
    "            y=plot_trend_df.airspeed,\n",
    "            z=plot_trend_df.load,\n",
    "            mode=\"markers\",\n",
    "            marker=dict(color=\"LightSkyBlue\", size=4),\n",
    "        ),\n",
    "    ]\n",
    ")\n",
    "\n",
    "fig.update_layout(\n",
    "    title=f\"Interp at prop speed = {plot_rpm} RPM\",\n",
    "    autosize=False,\n",
    "    width=500,\n",
    "    height=500,\n",
    "    margin=dict(l=65, r=50, b=65, t=90),\n",
    ")\n",
    "\n",
    "fig.show()\n"
   ]
  },
  {
   "cell_type": "markdown",
   "metadata": {},
   "source": [
    "**From the point of view of fitting, this is a very simple example.**\n",
    "\n",
    "We have a wonderfully smooth funciton, and there is zero noise. In reality we will likely seem some zones which require some smoothing, either due to noise in measurements, or solvers struggling with challenging cases. We will not produce a 'High fidelity data set', which again will be manafactured, however we will put in some noise and some mild discontinuities in the function, perhaps something that will represent stall.\n",
    "\n",
    "**Let's generate the 'high fidelity' data**"
   ]
  },
  {
   "cell_type": "code",
   "execution_count": 18,
   "metadata": {},
   "outputs": [
    {
     "data": {
      "text/html": [
       "<div>\n",
       "<style scoped>\n",
       "    .dataframe tbody tr th:only-of-type {\n",
       "        vertical-align: middle;\n",
       "    }\n",
       "\n",
       "    .dataframe tbody tr th {\n",
       "        vertical-align: top;\n",
       "    }\n",
       "\n",
       "    .dataframe thead th {\n",
       "        text-align: right;\n",
       "    }\n",
       "</style>\n",
       "<table border=\"1\" class=\"dataframe\">\n",
       "  <thead>\n",
       "    <tr style=\"text-align: right;\">\n",
       "      <th></th>\n",
       "      <th>airspeed</th>\n",
       "      <th>discangle</th>\n",
       "      <th>propspeed</th>\n",
       "      <th>load</th>\n",
       "    </tr>\n",
       "  </thead>\n",
       "  <tbody>\n",
       "    <tr>\n",
       "      <th>0</th>\n",
       "      <td>0.0</td>\n",
       "      <td>-90.0</td>\n",
       "      <td>400.0</td>\n",
       "      <td>640.0</td>\n",
       "    </tr>\n",
       "    <tr>\n",
       "      <th>1</th>\n",
       "      <td>0.0</td>\n",
       "      <td>-90.0</td>\n",
       "      <td>560.0</td>\n",
       "      <td>1254.4</td>\n",
       "    </tr>\n",
       "    <tr>\n",
       "      <th>2</th>\n",
       "      <td>0.0</td>\n",
       "      <td>-90.0</td>\n",
       "      <td>720.0</td>\n",
       "      <td>2073.6</td>\n",
       "    </tr>\n",
       "    <tr>\n",
       "      <th>3</th>\n",
       "      <td>0.0</td>\n",
       "      <td>-90.0</td>\n",
       "      <td>880.0</td>\n",
       "      <td>3097.6</td>\n",
       "    </tr>\n",
       "    <tr>\n",
       "      <th>4</th>\n",
       "      <td>0.0</td>\n",
       "      <td>-90.0</td>\n",
       "      <td>1040.0</td>\n",
       "      <td>4326.4</td>\n",
       "    </tr>\n",
       "    <tr>\n",
       "      <th>...</th>\n",
       "      <td>...</td>\n",
       "      <td>...</td>\n",
       "      <td>...</td>\n",
       "      <td>...</td>\n",
       "    </tr>\n",
       "    <tr>\n",
       "      <th>211</th>\n",
       "      <td>60.0</td>\n",
       "      <td>90.0</td>\n",
       "      <td>560.0</td>\n",
       "      <td>12774.4</td>\n",
       "    </tr>\n",
       "    <tr>\n",
       "      <th>212</th>\n",
       "      <td>60.0</td>\n",
       "      <td>90.0</td>\n",
       "      <td>720.0</td>\n",
       "      <td>13593.6</td>\n",
       "    </tr>\n",
       "    <tr>\n",
       "      <th>213</th>\n",
       "      <td>60.0</td>\n",
       "      <td>90.0</td>\n",
       "      <td>880.0</td>\n",
       "      <td>14617.6</td>\n",
       "    </tr>\n",
       "    <tr>\n",
       "      <th>214</th>\n",
       "      <td>60.0</td>\n",
       "      <td>90.0</td>\n",
       "      <td>1040.0</td>\n",
       "      <td>15846.4</td>\n",
       "    </tr>\n",
       "    <tr>\n",
       "      <th>215</th>\n",
       "      <td>60.0</td>\n",
       "      <td>90.0</td>\n",
       "      <td>1200.0</td>\n",
       "      <td>17280.0</td>\n",
       "    </tr>\n",
       "  </tbody>\n",
       "</table>\n",
       "<p>216 rows × 4 columns</p>\n",
       "</div>"
      ],
      "text/plain": [
       "     airspeed  discangle  propspeed     load\n",
       "0         0.0      -90.0      400.0    640.0\n",
       "1         0.0      -90.0      560.0   1254.4\n",
       "2         0.0      -90.0      720.0   2073.6\n",
       "3         0.0      -90.0      880.0   3097.6\n",
       "4         0.0      -90.0     1040.0   4326.4\n",
       "..        ...        ...        ...      ...\n",
       "211      60.0       90.0      560.0  12774.4\n",
       "212      60.0       90.0      720.0  13593.6\n",
       "213      60.0       90.0      880.0  14617.6\n",
       "214      60.0       90.0     1040.0  15846.4\n",
       "215      60.0       90.0     1200.0  17280.0\n",
       "\n",
       "[216 rows x 4 columns]"
      ]
     },
     "metadata": {},
     "output_type": "display_data"
    }
   ],
   "source": [
    "hd_data_df: pd.DataFrame = dummy_prop_example.hf_data(\n",
    "    lf_independent[:, 0],\n",
    "    lf_independent[:, 1],\n",
    "    lf_independent[:, 2],\n",
    "    1000.0,\n",
    "    3700.0,\n",
    ")\n",
    "\n",
    "display(lf_data_df)"
   ]
  },
  {
   "cell_type": "markdown",
   "metadata": {},
   "source": [
    "**Now lets compare the two datasets, at a common, fixed, propeller speed**"
   ]
  }
 ],
 "metadata": {
  "kernelspec": {
   "display_name": "Python 3.10.6 ('unipy')",
   "language": "python",
   "name": "python3"
  },
  "language_info": {
   "codemirror_mode": {
    "name": "ipython",
    "version": 3
   },
   "file_extension": ".py",
   "mimetype": "text/x-python",
   "name": "python",
   "nbconvert_exporter": "python",
   "pygments_lexer": "ipython3",
   "version": "3.10.6"
  },
  "orig_nbformat": 4,
  "vscode": {
   "interpreter": {
    "hash": "afe195a23bb4fb90ed642739f4c470c8ba0e3fa5238389a4829d34279600f7a1"
   }
  }
 },
 "nbformat": 4,
 "nbformat_minor": 2
}
