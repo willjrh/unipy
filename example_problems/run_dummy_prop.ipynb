{
 "cells": [
  {
   "cell_type": "markdown",
   "metadata": {},
   "source": [
    "# Build a Krigging surrogate on some dummy prop data"
   ]
  },
  {
   "cell_type": "code",
   "execution_count": 20,
   "metadata": {},
   "outputs": [
    {
     "name": "stdout",
     "output_type": "stream",
     "text": [
      "The autoreload extension is already loaded. To reload it, use:\n",
      "  %reload_ext autoreload\n"
     ]
    }
   ],
   "source": [
    "import pandas as pd\n",
    "import numpy as np\n",
    "import plotly.graph_objects as go\n",
    "import dummy_prop_example\n",
    "from smt.sampling_methods import FullFactorial\n",
    "\n",
    "%load_ext autoreload\n",
    "%autoreload 2"
   ]
  },
  {
   "cell_type": "markdown",
   "metadata": {},
   "source": [
    "**First let us consider a 'low fidelity' dataset. We could build a full factorial of data if this is cheap, so lets pretend to do that.**\n",
    "\n",
    "We also may choose to remove some cases, since we can't always successfully manage to build a full factorial set of structured data. \n",
    "\n",
    "Let us set up the sampling limits:"
   ]
  },
  {
   "cell_type": "code",
   "execution_count": 18,
   "metadata": {},
   "outputs": [],
   "source": [
    "# setup each limit\n",
    "discangle_limits = [-90.0, 90.0]\n",
    "propspeed_limits = [400.0, 1200.0]\n",
    "airspeed_limits = [0.0, 60.0]\n",
    "# and we group them into a list\n",
    "xlimits = np.array([discangle_limits, airspeed_limits, propspeed_limits])\n",
    "# and make the full factorial sampling\n",
    "lf_sampling = FullFactorial(xlimits=xlimits)\n",
    "number_of_lf_samples = 200\n",
    "lf_independent = lf_sampling(number_of_lf_samples)"
   ]
  },
  {
   "cell_type": "markdown",
   "metadata": {},
   "source": [
    "**now we can plot the inputs, just to see what we have achieved**"
   ]
  },
  {
   "cell_type": "code",
   "execution_count": 12,
   "metadata": {},
   "outputs": [
    {
     "data": {
      "text/html": [
       "<div>\n",
       "<style scoped>\n",
       "    .dataframe tbody tr th:only-of-type {\n",
       "        vertical-align: middle;\n",
       "    }\n",
       "\n",
       "    .dataframe tbody tr th {\n",
       "        vertical-align: top;\n",
       "    }\n",
       "\n",
       "    .dataframe thead th {\n",
       "        text-align: right;\n",
       "    }\n",
       "</style>\n",
       "<table border=\"1\" class=\"dataframe\">\n",
       "  <thead>\n",
       "    <tr style=\"text-align: right;\">\n",
       "      <th></th>\n",
       "      <th>airspeed</th>\n",
       "      <th>discangle</th>\n",
       "      <th>propspeed</th>\n",
       "      <th>load</th>\n",
       "    </tr>\n",
       "  </thead>\n",
       "  <tbody>\n",
       "    <tr>\n",
       "      <th>0</th>\n",
       "      <td>0.0</td>\n",
       "      <td>0.0</td>\n",
       "      <td>1000.0</td>\n",
       "      <td>4000.000</td>\n",
       "    </tr>\n",
       "    <tr>\n",
       "      <th>1</th>\n",
       "      <td>10.0</td>\n",
       "      <td>90.0</td>\n",
       "      <td>900.0</td>\n",
       "      <td>3240.375</td>\n",
       "    </tr>\n",
       "  </tbody>\n",
       "</table>\n",
       "</div>"
      ],
      "text/plain": [
       "   airspeed  discangle  propspeed      load\n",
       "0       0.0        0.0     1000.0  4000.000\n",
       "1      10.0       90.0      900.0  3240.375"
      ]
     },
     "metadata": {},
     "output_type": "display_data"
    }
   ],
   "source": [
    "fig = go.Figure(data=[go.scatter3d(x=lf_independent, y=lf_independent, mode=\"makers\")])\n"
   ]
  }
 ],
 "metadata": {
  "kernelspec": {
   "display_name": "Python 3.10.6 ('unipy')",
   "language": "python",
   "name": "python3"
  },
  "language_info": {
   "codemirror_mode": {
    "name": "ipython",
    "version": 3
   },
   "file_extension": ".py",
   "mimetype": "text/x-python",
   "name": "python",
   "nbconvert_exporter": "python",
   "pygments_lexer": "ipython3",
   "version": "3.10.6"
  },
  "orig_nbformat": 4,
  "vscode": {
   "interpreter": {
    "hash": "ca1265f90407129ddf2d17cc02af4a22d7848e41d4735255fdf5c1940bc54c0f"
   }
  }
 },
 "nbformat": 4,
 "nbformat_minor": 2
}
